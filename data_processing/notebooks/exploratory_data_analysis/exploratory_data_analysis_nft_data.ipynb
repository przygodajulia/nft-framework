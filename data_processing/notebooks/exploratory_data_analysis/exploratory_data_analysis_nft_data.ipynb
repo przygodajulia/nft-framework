{
 "cells": [
  {
   "cell_type": "code",
   "execution_count": 2,
   "id": "e8dc5fd5-22cc-4be0-a6df-803aaa419e5c",
   "metadata": {},
   "outputs": [],
   "source": [
    "### Exploratory data analysis notebook"
   ]
  },
  {
   "cell_type": "code",
   "execution_count": 3,
   "id": "a05fa394-a612-4895-9258-b74621fc23ea",
   "metadata": {},
   "outputs": [
    {
     "name": "stdout",
     "output_type": "stream",
     "text": [
      "Collecting graphframes\n",
      "  Downloading graphframes-0.6-py2.py3-none-any.whl.metadata (934 bytes)\n",
      "Requirement already satisfied: numpy in /opt/conda/lib/python3.11/site-packages (from graphframes) (1.24.4)\n",
      "Collecting nose (from graphframes)\n",
      "  Downloading nose-1.3.7-py3-none-any.whl.metadata (1.7 kB)\n",
      "Downloading graphframes-0.6-py2.py3-none-any.whl (18 kB)\n",
      "Downloading nose-1.3.7-py3-none-any.whl (154 kB)\n",
      "\u001b[2K   \u001b[90m━━━━━━━━━━━━━━━━━━━━━━━━━━━━━━━━━━━━━━━━\u001b[0m \u001b[32m154.7/154.7 kB\u001b[0m \u001b[31m2.1 MB/s\u001b[0m eta \u001b[36m0:00:00\u001b[0m \u001b[36m0:00:01\u001b[0m\n",
      "\u001b[?25hInstalling collected packages: nose, graphframes\n",
      "Successfully installed graphframes-0.6 nose-1.3.7\n",
      "Collecting nbimporter\n",
      "  Downloading nbimporter-0.3.4-py3-none-any.whl.metadata (252 bytes)\n",
      "Downloading nbimporter-0.3.4-py3-none-any.whl (4.9 kB)\n",
      "Installing collected packages: nbimporter\n",
      "Successfully installed nbimporter-0.3.4\n",
      "Collecting hvac\n",
      "  Downloading hvac-2.3.0-py3-none-any.whl.metadata (3.3 kB)\n",
      "Requirement already satisfied: requests<3.0.0,>=2.27.1 in /opt/conda/lib/python3.11/site-packages (from hvac) (2.31.0)\n",
      "Requirement already satisfied: charset-normalizer<4,>=2 in /opt/conda/lib/python3.11/site-packages (from requests<3.0.0,>=2.27.1->hvac) (3.3.0)\n",
      "Requirement already satisfied: idna<4,>=2.5 in /opt/conda/lib/python3.11/site-packages (from requests<3.0.0,>=2.27.1->hvac) (3.4)\n",
      "Requirement already satisfied: urllib3<3,>=1.21.1 in /opt/conda/lib/python3.11/site-packages (from requests<3.0.0,>=2.27.1->hvac) (2.0.7)\n",
      "Requirement already satisfied: certifi>=2017.4.17 in /opt/conda/lib/python3.11/site-packages (from requests<3.0.0,>=2.27.1->hvac) (2023.7.22)\n",
      "Downloading hvac-2.3.0-py3-none-any.whl (155 kB)\n",
      "\u001b[2K   \u001b[90m━━━━━━━━━━━━━━━━━━━━━━━━━━━━━━━━━━━━━━━━\u001b[0m \u001b[32m155.9/155.9 kB\u001b[0m \u001b[31m2.2 MB/s\u001b[0m eta \u001b[36m0:00:00\u001b[0m \u001b[36m0:00:01\u001b[0m\n",
      "\u001b[?25hInstalling collected packages: hvac\n",
      "Successfully installed hvac-2.3.0\n"
     ]
    }
   ],
   "source": [
    "!pip install graphframes\n",
    "!pip install nbimporter\n",
    "!pip install hvac"
   ]
  },
  {
   "cell_type": "code",
   "execution_count": 7,
   "id": "913a3ba5-e26c-4edd-aa1e-22e89d68c0e3",
   "metadata": {},
   "outputs": [],
   "source": [
    "import sys\n",
    "sys.path.append('/home/jovyan/work') # here add notebooks if fails"
   ]
  },
  {
   "cell_type": "code",
   "execution_count": 8,
   "id": "b89fd476-257d-4980-b4e8-088e662f6eaf",
   "metadata": {},
   "outputs": [],
   "source": [
    "from pyspark.sql import SparkSession\n",
    "import nbimporter\n",
    "from utils.vault_scripts import read_root_token, get_secret_from_vault\n",
    "from pyspark.sql import functions as F\n",
    "from pyspark.sql.functions import explode, col, when, lit, expr\n",
    "from graphframes import GraphFrame"
   ]
  },
  {
   "cell_type": "code",
   "execution_count": 9,
   "id": "970b38b2-d885-4711-a3b4-ffc19eaeeb61",
   "metadata": {},
   "outputs": [],
   "source": [
    "# S3 and Spark configuration"
   ]
  },
  {
   "cell_type": "code",
   "execution_count": 10,
   "id": "2d2cccb6-515a-4eac-a72b-fabe31c1e5a6",
   "metadata": {},
   "outputs": [],
   "source": [
    "spark = SparkSession.builder.appName(\"ExpDataAnalysis\").getOrCreate()"
   ]
  },
  {
   "cell_type": "code",
   "execution_count": 11,
   "id": "330d3d06-0af2-4a44-bbe1-b7ebc063f5d4",
   "metadata": {},
   "outputs": [],
   "source": [
    "hadoopConf = spark._jsc.hadoopConfiguration()"
   ]
  },
  {
   "cell_type": "code",
   "execution_count": 12,
   "id": "1286eeda-15bd-4435-8e29-8d20627f05aa",
   "metadata": {},
   "outputs": [],
   "source": [
    "AWS_KEY_ID = get_secret_from_vault(\"aws1\", \"keyid\")\n",
    "AWS_ACCESS_KEY = get_secret_from_vault(\"aws2\", \"accesskey\")\n",
    "AWS_S3_BUCKET = get_secret_from_vault(\"aws3\", \"s3bucket\")"
   ]
  },
  {
   "cell_type": "code",
   "execution_count": 13,
   "id": "23c773db-6030-4181-8792-cc1b0f15afe3",
   "metadata": {},
   "outputs": [],
   "source": [
    "hadoopConf.set(\"fs.s3a.access.key\", AWS_KEY_ID)\n",
    "hadoopConf.set(\"fs.s3a.secret.key\", AWS_ACCESS_KEY)\n",
    "hadoopConf.set(\"spark.hadoop.fs.s3a.aws.credentials.provider\", \"org.apache.hadoop.fs.s3a.SimpleAWSCredentialsProvider\")"
   ]
  },
  {
   "cell_type": "code",
   "execution_count": 8,
   "id": "49130ddf-bb7e-4e7d-8a3d-04e31b0069ea",
   "metadata": {},
   "outputs": [],
   "source": [
    "# Reading all data samples for one NFT collection"
   ]
  },
  {
   "cell_type": "code",
   "execution_count": 22,
   "id": "f3b148f6-35d3-4049-9f27-7d69b59351c4",
   "metadata": {},
   "outputs": [],
   "source": [
    "# s3_path_big = f\"s3a://{AWS_S3_BUCKET}/raw/opensea_data/opensea_nft_data/cryptopunks/*.json\"\n",
    "s3_path_small = f\"s3a://{AWS_S3_BUCKET}/raw/opensea_nft_data/courtyard-nft/*.json\""
   ]
  },
  {
   "cell_type": "code",
   "execution_count": 12,
   "id": "ef92f72d-fc8d-4cf0-a032-f67b36fd3b02",
   "metadata": {},
   "outputs": [],
   "source": [
    "df_big = spark.read.json(s3_path_big)"
   ]
  },
  {
   "cell_type": "code",
   "execution_count": 23,
   "id": "88fed434-cab1-4563-b573-aebe0d5cb121",
   "metadata": {},
   "outputs": [],
   "source": [
    "df_small = spark.read.json(s3_path_small)"
   ]
  },
  {
   "cell_type": "code",
   "execution_count": 14,
   "id": "ed2fb639-6869-459e-a48d-145c7a867407",
   "metadata": {},
   "outputs": [],
   "source": [
    "df_asset_events_big = df_big.select(explode(col(\"asset_events\")).alias(\"event\"))"
   ]
  },
  {
   "cell_type": "code",
   "execution_count": 24,
   "id": "93c5053b-140c-4682-b447-830fce260d5d",
   "metadata": {},
   "outputs": [],
   "source": [
    "df_asset_events_flat_small = df_small.select(\n",
    "    col(\"transaction\"),\n",
    "    col(\"event_type\"),\n",
    "    col(\"buyer\"),\n",
    "    col(\"seller\"),\n",
    "    col(\"from_address\"),\n",
    "    col(\"to_address\"),\n",
    "    col(\"quantity\"),\n",
    "    col(\"event_timestamp\"),\n",
    "    col(\"order_hash\"),\n",
    "    col(\"nft.identifier\"),\n",
    "    col(\"nft.collection\"),\n",
    "    col(\"nft.contract\"),\n",
    "    col(\"payment.decimals\"),\n",
    "    col(\"payment.quantity\").alias(\"payment_quantity\"),\n",
    "    col(\"payment.symbol\"),\n",
    "    col(\"payment.token_address\")\n",
    ")"
   ]
  },
  {
   "cell_type": "code",
   "execution_count": 16,
   "id": "d8d421c9-37cb-4ef6-809b-53c5cc63d66b",
   "metadata": {},
   "outputs": [],
   "source": [
    "df_asset_events_flat_big = df_asset_events_big.select(\n",
    "    col(\"event.transaction\"),\n",
    "    col(\"event.event_type\"),\n",
    "    col(\"event.buyer\"),\n",
    "    col(\"event.seller\"),\n",
    "    col(\"event.from_address\"),\n",
    "    col(\"event.to_address\"),\n",
    "    col(\"event.quantity\"),\n",
    "    col(\"event.event_timestamp\"),\n",
    "    col(\"event.order_hash\"),\n",
    "    col(\"event.nft.identifier\"),\n",
    "    col(\"event.nft.collection\"),\n",
    "    col(\"event.nft.contract\"),\n",
    "    col(\"event.payment.decimals\"),\n",
    "    col(\"event.payment.quantity\").alias(\"payment_quantity\"),\n",
    "    col(\"event.payment.symbol\"),\n",
    "    col(\"event.payment.token_address\")\n",
    ")"
   ]
  },
  {
   "cell_type": "code",
   "execution_count": 17,
   "id": "92bf9eab-2308-41d1-a8b4-b15ac96fee61",
   "metadata": {},
   "outputs": [
    {
     "data": {
      "text/plain": [
       "157470"
      ]
     },
     "execution_count": 17,
     "metadata": {},
     "output_type": "execute_result"
    }
   ],
   "source": [
    "df_asset_events_flat_big.count()"
   ]
  },
  {
   "cell_type": "code",
   "execution_count": 18,
   "id": "77bbd601-f2e2-4140-b9ea-0033b805d602",
   "metadata": {},
   "outputs": [
    {
     "name": "stdout",
     "output_type": "stream",
     "text": [
      "root\n",
      " |-- transaction: string (nullable = true)\n",
      " |-- event_type: string (nullable = true)\n",
      " |-- buyer: string (nullable = true)\n",
      " |-- seller: string (nullable = true)\n",
      " |-- from_address: string (nullable = true)\n",
      " |-- to_address: string (nullable = true)\n",
      " |-- quantity: long (nullable = true)\n",
      " |-- event_timestamp: long (nullable = true)\n",
      " |-- order_hash: string (nullable = true)\n",
      " |-- identifier: string (nullable = true)\n",
      " |-- collection: string (nullable = true)\n",
      " |-- contract: string (nullable = true)\n",
      " |-- decimals: long (nullable = true)\n",
      " |-- payment_quantity: string (nullable = true)\n",
      " |-- symbol: string (nullable = true)\n",
      " |-- token_address: string (nullable = true)\n",
      "\n"
     ]
    }
   ],
   "source": [
    "df_asset_events_flat_big.printSchema()"
   ]
  },
  {
   "cell_type": "code",
   "execution_count": 25,
   "id": "5006e087-94f7-47d3-bda9-6afc916e4bac",
   "metadata": {},
   "outputs": [
    {
     "data": {
      "text/plain": [
       "170593"
      ]
     },
     "execution_count": 25,
     "metadata": {},
     "output_type": "execute_result"
    }
   ],
   "source": [
    "df_asset_events_flat_small.count()\n",
    "# 157470 - cryptopunks\n",
    "# 97916 - pudgypenguins / referencedata2 > 12177\n",
    "# 14903 - boredapeyachtclub / reference"
   ]
  },
  {
   "cell_type": "code",
   "execution_count": 20,
   "id": "e75513f1-9d12-41b3-8542-83b3ef2f2f22",
   "metadata": {},
   "outputs": [
    {
     "name": "stdout",
     "output_type": "stream",
     "text": [
      "+--------------------+----------+-----------+----------+-----+\n",
      "|         transaction|identifier| collection|event_type|count|\n",
      "+--------------------+----------+-----------+----------+-----+\n",
      "|0x317fc2467d9139e...|      2474|cryptopunks|  transfer|  122|\n",
      "|0x38b583c3d19bf01...|      1411|cryptopunks|  transfer|  122|\n",
      "|0xd1f05c106d3f08a...|      1860|cryptopunks|  transfer|  122|\n",
      "|0x4956c57cf093949...|      4347|cryptopunks|  transfer|  122|\n",
      "|0x76708336a7f0abd...|      5728|cryptopunks|  transfer|  122|\n",
      "|0xbb3bb661d0778f8...|      2153|cryptopunks|      sale|  122|\n",
      "|0x9a760980e284588...|      9362|cryptopunks|      sale|  122|\n",
      "|0x31d08bb7eb37b64...|      1400|cryptopunks|      sale|  122|\n",
      "|0xec0e55fec12de0a...|      8771|cryptopunks|      sale|  122|\n",
      "|0xb2470e68bcd1fd3...|      7113|cryptopunks|      sale|  122|\n",
      "|0x068a942a5d40fd0...|      3960|cryptopunks|  transfer|  122|\n",
      "|0xc9bf3c34e8591d2...|      7532|cryptopunks|      sale|  122|\n",
      "|0xa9c769a5a65ffb2...|      6724|cryptopunks|  transfer|  122|\n",
      "|0xff1234e40c46b29...|      7532|cryptopunks|  transfer|  122|\n",
      "|0x0151e357b346511...|      2575|cryptopunks|      sale|  122|\n",
      "|0x317fc2467d9139e...|      8096|cryptopunks|  transfer|  122|\n",
      "|0x84488118671c8d5...|      3118|cryptopunks|  transfer|  122|\n",
      "|0x28bfcd434bcea0a...|      5728|cryptopunks|      sale|  122|\n",
      "|0x23ffee4d4a8afd0...|       544|cryptopunks|  transfer|  122|\n",
      "|0xb85eba7ef6ce527...|      3039|cryptopunks|  transfer|  122|\n",
      "+--------------------+----------+-----------+----------+-----+\n",
      "only showing top 20 rows\n",
      "\n"
     ]
    }
   ],
   "source": [
    "grouped_df_big = df_asset_events_flat_big.groupBy(\"transaction\", \"identifier\", \"collection\", \"event_type\").count()\n",
    "duplicates_df_big = grouped_df_big.filter(F.col(\"count\") > 1)\n",
    "duplicates_df_big.show()"
   ]
  },
  {
   "cell_type": "code",
   "execution_count": 26,
   "id": "0c958d43-2a1a-4bce-980f-bb6579756cdc",
   "metadata": {},
   "outputs": [
    {
     "name": "stdout",
     "output_type": "stream",
     "text": [
      "+-----------+----------+----------+----------+-----+\n",
      "|transaction|identifier|collection|event_type|count|\n",
      "+-----------+----------+----------+----------+-----+\n",
      "+-----------+----------+----------+----------+-----+\n",
      "\n"
     ]
    }
   ],
   "source": [
    "grouped_df_small = df_asset_events_flat_small.groupBy(\"transaction\", \"identifier\", \"collection\", \"event_type\").count()\n",
    "duplicates_df_small = grouped_df_small.filter(F.col(\"count\") > 1)\n",
    "duplicates_df_small.show()"
   ]
  },
  {
   "cell_type": "code",
   "execution_count": 22,
   "id": "f2427c16-2ac0-480c-ba36-016c5eab6ac7",
   "metadata": {},
   "outputs": [
    {
     "data": {
      "text/plain": [
       "[Row(transaction='0x317fc2467d9139ed72a063c54f75fe41570407cd2e7dcf94c3ccf59b88c3648a', identifier='2474', collection='cryptopunks', event_type='transfer', count=122),\n",
       " Row(transaction='0x38b583c3d19bf01881d39f9044b36ea91fba8e16da3a9591f7a399fe8004d346', identifier='1411', collection='cryptopunks', event_type='transfer', count=122),\n",
       " Row(transaction='0xd1f05c106d3f08a04d464366df8953982ab5fddf3b63cb192b3732268b84d964', identifier='1860', collection='cryptopunks', event_type='transfer', count=122),\n",
       " Row(transaction='0x4956c57cf093949277ed318972eb5c34a664ce28796fe23cff0d14e9d3031a20', identifier='4347', collection='cryptopunks', event_type='transfer', count=122),\n",
       " Row(transaction='0x76708336a7f0abdd7c19dcbb97a857d06d97ff46a845231d10310cbb39b97a3e', identifier='5728', collection='cryptopunks', event_type='transfer', count=122)]"
      ]
     },
     "execution_count": 22,
     "metadata": {},
     "output_type": "execute_result"
    }
   ],
   "source": [
    "duplicates_df_big.take(5)"
   ]
  },
  {
   "cell_type": "code",
   "execution_count": 28,
   "id": "4b58dc15-f115-4549-a0aa-b66b18345833",
   "metadata": {},
   "outputs": [
    {
     "name": "stdout",
     "output_type": "stream",
     "text": [
      "+--------------------+----------+-----+------+--------------------+--------------------+--------+---------------+----------+----------+-----------+--------------------+--------+----------------+------+-------------+\n",
      "|         transaction|event_type|buyer|seller|        from_address|          to_address|quantity|event_timestamp|order_hash|identifier| collection|            contract|decimals|payment_quantity|symbol|token_address|\n",
      "+--------------------+----------+-----+------+--------------------+--------------------+--------+---------------+----------+----------+-----------+--------------------+--------+----------------+------+-------------+\n",
      "|0x317fc2467d9139e...|  transfer| NULL|  NULL|0x2be665ee2709634...|0x5ca12f79e4d33b0...|       1|     1689008423|      NULL|      2474|cryptopunks|0xb47e3cd837ddf8e...|    NULL|            NULL|  NULL|         NULL|\n",
      "|0x317fc2467d9139e...|  transfer| NULL|  NULL|0x2be665ee2709634...|0x5ca12f79e4d33b0...|       1|     1689008423|      NULL|      2474|cryptopunks|0xb47e3cd837ddf8e...|    NULL|            NULL|  NULL|         NULL|\n",
      "|0x317fc2467d9139e...|  transfer| NULL|  NULL|0x2be665ee2709634...|0x5ca12f79e4d33b0...|       1|     1689008423|      NULL|      2474|cryptopunks|0xb47e3cd837ddf8e...|    NULL|            NULL|  NULL|         NULL|\n",
      "|0x317fc2467d9139e...|  transfer| NULL|  NULL|0x2be665ee2709634...|0x5ca12f79e4d33b0...|       1|     1689008423|      NULL|      2474|cryptopunks|0xb47e3cd837ddf8e...|    NULL|            NULL|  NULL|         NULL|\n",
      "|0x317fc2467d9139e...|  transfer| NULL|  NULL|0x2be665ee2709634...|0x5ca12f79e4d33b0...|       1|     1689008423|      NULL|      2474|cryptopunks|0xb47e3cd837ddf8e...|    NULL|            NULL|  NULL|         NULL|\n",
      "|0x317fc2467d9139e...|  transfer| NULL|  NULL|0x2be665ee2709634...|0x5ca12f79e4d33b0...|       1|     1689008423|      NULL|      2474|cryptopunks|0xb47e3cd837ddf8e...|    NULL|            NULL|  NULL|         NULL|\n",
      "|0x317fc2467d9139e...|  transfer| NULL|  NULL|0x2be665ee2709634...|0x5ca12f79e4d33b0...|       1|     1689008423|      NULL|      2474|cryptopunks|0xb47e3cd837ddf8e...|    NULL|            NULL|  NULL|         NULL|\n",
      "|0x317fc2467d9139e...|  transfer| NULL|  NULL|0x2be665ee2709634...|0x5ca12f79e4d33b0...|       1|     1689008423|      NULL|      2474|cryptopunks|0xb47e3cd837ddf8e...|    NULL|            NULL|  NULL|         NULL|\n",
      "|0x317fc2467d9139e...|  transfer| NULL|  NULL|0x2be665ee2709634...|0x5ca12f79e4d33b0...|       1|     1689008423|      NULL|      2474|cryptopunks|0xb47e3cd837ddf8e...|    NULL|            NULL|  NULL|         NULL|\n",
      "|0x317fc2467d9139e...|  transfer| NULL|  NULL|0x2be665ee2709634...|0x5ca12f79e4d33b0...|       1|     1689008423|      NULL|      2474|cryptopunks|0xb47e3cd837ddf8e...|    NULL|            NULL|  NULL|         NULL|\n",
      "|0x317fc2467d9139e...|  transfer| NULL|  NULL|0x2be665ee2709634...|0x5ca12f79e4d33b0...|       1|     1689008423|      NULL|      2474|cryptopunks|0xb47e3cd837ddf8e...|    NULL|            NULL|  NULL|         NULL|\n",
      "|0x317fc2467d9139e...|  transfer| NULL|  NULL|0x2be665ee2709634...|0x5ca12f79e4d33b0...|       1|     1689008423|      NULL|      2474|cryptopunks|0xb47e3cd837ddf8e...|    NULL|            NULL|  NULL|         NULL|\n",
      "|0x317fc2467d9139e...|  transfer| NULL|  NULL|0x2be665ee2709634...|0x5ca12f79e4d33b0...|       1|     1689008423|      NULL|      2474|cryptopunks|0xb47e3cd837ddf8e...|    NULL|            NULL|  NULL|         NULL|\n",
      "|0x317fc2467d9139e...|  transfer| NULL|  NULL|0x2be665ee2709634...|0x5ca12f79e4d33b0...|       1|     1689008423|      NULL|      2474|cryptopunks|0xb47e3cd837ddf8e...|    NULL|            NULL|  NULL|         NULL|\n",
      "|0x317fc2467d9139e...|  transfer| NULL|  NULL|0x2be665ee2709634...|0x5ca12f79e4d33b0...|       1|     1689008423|      NULL|      2474|cryptopunks|0xb47e3cd837ddf8e...|    NULL|            NULL|  NULL|         NULL|\n",
      "|0x317fc2467d9139e...|  transfer| NULL|  NULL|0x2be665ee2709634...|0x5ca12f79e4d33b0...|       1|     1689008423|      NULL|      2474|cryptopunks|0xb47e3cd837ddf8e...|    NULL|            NULL|  NULL|         NULL|\n",
      "|0x317fc2467d9139e...|  transfer| NULL|  NULL|0x2be665ee2709634...|0x5ca12f79e4d33b0...|       1|     1689008423|      NULL|      2474|cryptopunks|0xb47e3cd837ddf8e...|    NULL|            NULL|  NULL|         NULL|\n",
      "|0x317fc2467d9139e...|  transfer| NULL|  NULL|0x2be665ee2709634...|0x5ca12f79e4d33b0...|       1|     1689008423|      NULL|      2474|cryptopunks|0xb47e3cd837ddf8e...|    NULL|            NULL|  NULL|         NULL|\n",
      "|0x317fc2467d9139e...|  transfer| NULL|  NULL|0x2be665ee2709634...|0x5ca12f79e4d33b0...|       1|     1689008423|      NULL|      2474|cryptopunks|0xb47e3cd837ddf8e...|    NULL|            NULL|  NULL|         NULL|\n",
      "|0x317fc2467d9139e...|  transfer| NULL|  NULL|0x2be665ee2709634...|0x5ca12f79e4d33b0...|       1|     1689008423|      NULL|      2474|cryptopunks|0xb47e3cd837ddf8e...|    NULL|            NULL|  NULL|         NULL|\n",
      "+--------------------+----------+-----+------+--------------------+--------------------+--------+---------------+----------+----------+-----------+--------------------+--------+----------------+------+-------------+\n",
      "only showing top 20 rows\n",
      "\n"
     ]
    }
   ],
   "source": [
    "filtered_df_big = df_asset_events_flat_big.filter(\n",
    "    (df_asset_events_flat_big['transaction'] == '0x317fc2467d9139ed72a063c54f75fe41570407cd2e7dcf94c3ccf59b88c3648a') & \n",
    "    (df_asset_events_flat_big['identifier'] == '2474') & \n",
    "    (df_asset_events_flat_big['collection'] == 'cryptopunks') & \n",
    "    (df_asset_events_flat_big['event_type'] == 'transfer')\n",
    ")\n",
    "\n",
    "big_rows = filtered_df_big.collect()\n",
    "\n",
    "# for row in big_rows:\n",
    "#     print(row)\n",
    "\n",
    "# Read into separate df\n",
    "new_df_big = filtered_df_big\n",
    "new_df_big.show()"
   ]
  },
  {
   "cell_type": "code",
   "execution_count": null,
   "id": "2dce3fd8-4be1-4ffd-85bd-101103eb733d",
   "metadata": {},
   "outputs": [],
   "source": []
  },
  {
   "cell_type": "code",
   "execution_count": 27,
   "id": "0d014b07-8403-4c65-8355-7c42b16f9bbe",
   "metadata": {},
   "outputs": [
    {
     "name": "stdout",
     "output_type": "stream",
     "text": [
      "Row(transaction='0x317fc2467d9139ed72a063c54f75fe41570407cd2e7dcf94c3ccf59b88c3648a', event_type='transfer', buyer=None, seller=None, from_address='0x2be665ee27096344b8f015b1952d3dfdb4db4691', to_address='0x5ca12f79e4d33b0bd153b40df59f6db9ee03482e', quantity=1, event_timestamp=1689008423, order_hash=None, identifier='2474', collection='cryptopunks', contract='0xb47e3cd837ddf8e4c57f05d70ab865de6e193bbb', decimals=None, payment_quantity=None, symbol=None, token_address=None)\n"
     ]
    }
   ],
   "source": [
    "filtered_df_small = df_asset_events_flat_small.filter(\n",
    "    (df_asset_events_flat_small['transaction'] == '0x317fc2467d9139ed72a063c54f75fe41570407cd2e7dcf94c3ccf59b88c3648a') & \n",
    "    (df_asset_events_flat_small['identifier'] == '2474') & \n",
    "    (df_asset_events_flat_small['collection'] == 'cryptopunks') & \n",
    "    (df_asset_events_flat_small['event_type'] == 'transfer')\n",
    ")\n",
    "\n",
    "small_rows = filtered_df_small.collect()\n",
    "\n",
    "for row in small_rows:\n",
    "    print(row)"
   ]
  },
  {
   "cell_type": "code",
   "execution_count": 25,
   "id": "087b7fee-f356-4c52-b2cf-b9521abb15cd",
   "metadata": {},
   "outputs": [
    {
     "name": "stdout",
     "output_type": "stream",
     "text": [
      "+----------+--------------------------+\n",
      "|identifier|distinct_transaction_count|\n",
      "+----------+--------------------------+\n",
      "|1458      |11                        |\n",
      "|4347      |11                        |\n",
      "|1866      |10                        |\n",
      "|3042      |10                        |\n",
      "|2791      |9                         |\n",
      "|8542      |9                         |\n",
      "|2927      |8                         |\n",
      "|486       |8                         |\n",
      "|8096      |8                         |\n",
      "|1395      |7                         |\n",
      "|2356      |7                         |\n",
      "|3309      |7                         |\n",
      "|3777      |7                         |\n",
      "|3925      |7                         |\n",
      "|3947      |7                         |\n",
      "|2474      |6                         |\n",
      "|2837      |6                         |\n",
      "|3616      |6                         |\n",
      "|4118      |6                         |\n",
      "|5064      |6                         |\n",
      "+----------+--------------------------+\n",
      "only showing top 20 rows\n",
      "\n"
     ]
    }
   ],
   "source": [
    "distinct_transactions_count_big = df_asset_events_flat_big.groupBy(\"identifier\") \\\n",
    "    .agg(F.countDistinct(\"transaction\").alias(\"distinct_transaction_count\")).orderBy(col(\"distinct_transaction_count\").desc(), col(\"identifier\").asc())\n",
    "\n",
    "distinct_transactions_count_big.show(truncate=False)"
   ]
  },
  {
   "cell_type": "code",
   "execution_count": 132,
   "id": "b8bf8956-d5d2-4de3-a78e-d852c929d3c7",
   "metadata": {},
   "outputs": [
    {
     "name": "stdout",
     "output_type": "stream",
     "text": [
      "+----------+--------------------------+\n",
      "|identifier|distinct_transaction_count|\n",
      "+----------+--------------------------+\n",
      "|4869      |104                       |\n",
      "|4372      |62                        |\n",
      "|2626      |58                        |\n",
      "|7326      |58                        |\n",
      "|5712      |53                        |\n",
      "|7258      |53                        |\n",
      "|3628      |49                        |\n",
      "|5104      |48                        |\n",
      "|180       |41                        |\n",
      "|6628      |41                        |\n",
      "|3694      |39                        |\n",
      "|6030      |39                        |\n",
      "|4481      |38                        |\n",
      "|533       |37                        |\n",
      "|2480      |36                        |\n",
      "|2804      |34                        |\n",
      "|4542      |34                        |\n",
      "|6093      |34                        |\n",
      "|6763      |34                        |\n",
      "|4019      |32                        |\n",
      "+----------+--------------------------+\n",
      "only showing top 20 rows\n",
      "\n"
     ]
    }
   ],
   "source": [
    "distinct_transactions_count_small = df_asset_events_flat_small.groupBy(\"identifier\") \\\n",
    "    .agg(F.countDistinct(\"transaction\").alias(\"distinct_transaction_count\")).orderBy(col(\"distinct_transaction_count\").desc(), col(\"identifier\").asc())\n",
    "\n",
    "distinct_transactions_count_small.show(truncate=False)"
   ]
  },
  {
   "cell_type": "code",
   "execution_count": null,
   "id": "304636ec-70b3-49b5-b592-883e3cfbed72",
   "metadata": {},
   "outputs": [],
   "source": [
    "# Avg number of events per token"
   ]
  },
  {
   "cell_type": "code",
   "execution_count": 94,
   "id": "dfb33ebc-18c2-406a-b545-5e474706b329",
   "metadata": {},
   "outputs": [
    {
     "name": "stdout",
     "output_type": "stream",
     "text": [
      "Number of distinct rows: 12177\n"
     ]
    }
   ],
   "source": [
    "# Select the relevant columns\n",
    "distinct_rows = df_asset_events_flat_small.select(\"transaction\", \"identifier\", \"collection\", \"event_type\").distinct()\n",
    "\n",
    "# Count the number of distinct rows\n",
    "distinct_count = distinct_rows.count()\n",
    "\n",
    "# Show the count\n",
    "print(f\"Number of distinct rows: {distinct_count}\")"
   ]
  },
  {
   "cell_type": "code",
   "execution_count": 20,
   "id": "b074de19-23e2-4c23-8ef1-eca1e6c9312f",
   "metadata": {},
   "outputs": [],
   "source": [
    "# First check time frame that is included by single API call"
   ]
  },
  {
   "cell_type": "code",
   "execution_count": 29,
   "id": "721c4819-64bf-4365-b926-b69a91b8678d",
   "metadata": {},
   "outputs": [
    {
     "name": "stdout",
     "output_type": "stream",
     "text": [
      "+-------------------+-------------------+\n",
      "|min_event_timestamp|max_event_timestamp|\n",
      "+-------------------+-------------------+\n",
      "|2023-07-01 03:10:11|2023-09-30 14:54:47|\n",
      "+-------------------+-------------------+\n",
      "\n"
     ]
    }
   ],
   "source": [
    "min_max_timestamps_big = df_asset_events_flat_big.agg(\n",
    "    F.from_unixtime(F.min(\"event_timestamp\")).alias(\"min_event_timestamp\"),\n",
    "    F.from_unixtime(F.max(\"event_timestamp\")).alias(\"max_event_timestamp\")\n",
    ")\n",
    "min_max_timestamps_big.show()"
   ]
  },
  {
   "cell_type": "code",
   "execution_count": 30,
   "id": "317f59bc-94b7-4b07-b4bf-53ca1266dcfb",
   "metadata": {},
   "outputs": [
    {
     "name": "stdout",
     "output_type": "stream",
     "text": [
      "+-------------------+-------------------+\n",
      "|min_event_timestamp|max_event_timestamp|\n",
      "+-------------------+-------------------+\n",
      "|2023-07-01 03:10:11|2023-09-30 14:54:47|\n",
      "+-------------------+-------------------+\n",
      "\n"
     ]
    }
   ],
   "source": [
    "min_max_timestamps_small = df_asset_events_flat_small.agg(\n",
    "    F.from_unixtime(F.min(\"event_timestamp\")).alias(\"min_event_timestamp\"),\n",
    "    F.from_unixtime(F.max(\"event_timestamp\")).alias(\"max_event_timestamp\")\n",
    ")\n",
    "min_max_timestamps_small.show()"
   ]
  },
  {
   "cell_type": "code",
   "execution_count": 20,
   "id": "7059fcea-7024-49ad-92fd-4de33e776127",
   "metadata": {},
   "outputs": [],
   "source": [
    "# Difference between event types\n",
    "# Sale is the ultimate action that reflects a completed transaction.\n",
    "# Offer and Order can initiate the process leading to a Sale\n",
    "# Transfer may occur both before and after a Sale, \n",
    "# potentially as part of a wash trading scheme where assets are moved around to give a false impression of market activity."
   ]
  },
  {
   "cell_type": "code",
   "execution_count": 21,
   "id": "47a4633d-b2d2-4847-bd30-cd9590339b60",
   "metadata": {},
   "outputs": [
    {
     "name": "stdout",
     "output_type": "stream",
     "text": [
      "+----------+-----+\n",
      "|event_type|count|\n",
      "+----------+-----+\n",
      "|      sale| 4970|\n",
      "|  transfer|19533|\n",
      "+----------+-----+\n",
      "\n"
     ]
    }
   ],
   "source": [
    "df_grouped_by_event = df_asset_events_flat.groupBy(\"event_type\").agg(\n",
    "    F.count(\"*\").alias(\"count\")\n",
    ")\n",
    "df_grouped_by_event.show()"
   ]
  },
  {
   "cell_type": "code",
   "execution_count": 22,
   "id": "3a1eedac-76f4-475d-84fe-33e899243914",
   "metadata": {},
   "outputs": [],
   "source": [
    "# Payment decomposition\n",
    "# payment_quantity = 23630000000000000000\n",
    "# decimals = 18\n",
    "# Amount in WETH = 23630000000000000000 /10^18 = 23.63"
   ]
  },
  {
   "cell_type": "code",
   "execution_count": 37,
   "id": "8a332224-dc59-4e97-9d2d-d149079c1e4c",
   "metadata": {},
   "outputs": [
    {
     "name": "stdout",
     "output_type": "stream",
     "text": [
      "+------+------------+\n",
      "|symbol|record_count|\n",
      "+------+------------+\n",
      "|  NULL|       19533|\n",
      "|  WETH|        3669|\n",
      "|   ETH|        1287|\n",
      "|  USDC|          14|\n",
      "+------+------------+\n",
      "\n"
     ]
    }
   ],
   "source": [
    "df_count_by_symbol = df_asset_events_flat.groupBy(\"symbol\").agg(\n",
    "    F.count(\"*\").alias(\"record_count\")\n",
    ").orderBy(col(\"record_count\").desc())\n",
    "\n",
    "df_count_by_symbol.show()"
   ]
  },
  {
   "cell_type": "code",
   "execution_count": null,
   "id": "891be48d-e237-47bd-8e02-122089643d94",
   "metadata": {},
   "outputs": [],
   "source": [
    "# Read all used symbols"
   ]
  },
  {
   "cell_type": "code",
   "execution_count": 14,
   "id": "95eb29af-29f3-4f05-8282-ac1265a103a3",
   "metadata": {},
   "outputs": [],
   "source": [
    "df_all_path = f\"s3a://{AWS_S3_BUCKET}/raw/opensea_nft_data/*/*.json\"\n",
    "df_all = spark.read.json(df_all_path)"
   ]
  },
  {
   "cell_type": "code",
   "execution_count": 16,
   "id": "2ad74811-58fd-49b7-963d-f1fbb0537ffc",
   "metadata": {},
   "outputs": [
    {
     "name": "stdout",
     "output_type": "stream",
     "text": [
      "root\n",
      " |-- buyer: string (nullable = true)\n",
      " |-- chain: string (nullable = true)\n",
      " |-- closing_date: long (nullable = true)\n",
      " |-- event_timestamp: long (nullable = true)\n",
      " |-- event_type: string (nullable = true)\n",
      " |-- from_address: string (nullable = true)\n",
      " |-- nft: struct (nullable = true)\n",
      " |    |-- collection: string (nullable = true)\n",
      " |    |-- contract: string (nullable = true)\n",
      " |    |-- description: string (nullable = true)\n",
      " |    |-- display_animation_url: string (nullable = true)\n",
      " |    |-- display_image_url: string (nullable = true)\n",
      " |    |-- identifier: string (nullable = true)\n",
      " |    |-- image_url: string (nullable = true)\n",
      " |    |-- is_disabled: boolean (nullable = true)\n",
      " |    |-- is_nsfw: boolean (nullable = true)\n",
      " |    |-- metadata_url: string (nullable = true)\n",
      " |    |-- name: string (nullable = true)\n",
      " |    |-- opensea_url: string (nullable = true)\n",
      " |    |-- token_standard: string (nullable = true)\n",
      " |    |-- updated_at: string (nullable = true)\n",
      " |-- order_hash: string (nullable = true)\n",
      " |-- payment: struct (nullable = true)\n",
      " |    |-- decimals: long (nullable = true)\n",
      " |    |-- quantity: string (nullable = true)\n",
      " |    |-- symbol: string (nullable = true)\n",
      " |    |-- token_address: string (nullable = true)\n",
      " |-- protocol_address: string (nullable = true)\n",
      " |-- quantity: long (nullable = true)\n",
      " |-- seller: string (nullable = true)\n",
      " |-- to_address: string (nullable = true)\n",
      " |-- transaction: string (nullable = true)\n",
      "\n"
     ]
    }
   ],
   "source": [
    "df_all.printSchema()"
   ]
  },
  {
   "cell_type": "code",
   "execution_count": 17,
   "id": "afe74ab6-a7b3-4666-b95e-df939388792d",
   "metadata": {},
   "outputs": [
    {
     "name": "stdout",
     "output_type": "stream",
     "text": [
      "+------+------------+\n",
      "|symbol|record_count|\n",
      "+------+------------+\n",
      "|  NULL|      126295|\n",
      "|  USDC|       51540|\n",
      "|   POL|        2601|\n",
      "|  WETH|        1660|\n",
      "|   ETH|        1224|\n",
      "|USDC.e|          24|\n",
      "+------+------------+\n",
      "\n"
     ]
    }
   ],
   "source": [
    "df_all_symbols = df_all.groupBy(\"payment.symbol\").agg(\n",
    "    F.count(\"*\").alias(\"record_count\")\n",
    ").orderBy(col(\"record_count\").desc()) \n",
    "\n",
    "df_all_symbols.show()"
   ]
  },
  {
   "cell_type": "code",
   "execution_count": 23,
   "id": "a1332470-da10-4a31-8094-b0f2cbdcb2fc",
   "metadata": {},
   "outputs": [],
   "source": [
    "# Wash trading analysis sample"
   ]
  },
  {
   "cell_type": "code",
   "execution_count": 24,
   "id": "3952d787-38a8-482c-9a50-aafd2abc815f",
   "metadata": {},
   "outputs": [],
   "source": [
    "# 1. Rapid transfers between a small group of accounts (often involving back-and-forth transfers of the same asset for a set of assets).\n",
    "# 2. Minimal time differences between buys and sells (or transfers).\n",
    "# 3. No real change in ownership, as the seller and buyer may be the same person, or colluding accounts.\n",
    "# 4. Repeated behavior over a period, showing a cycle of transfers or sales without any actual long-term holding."
   ]
  },
  {
   "cell_type": "code",
   "execution_count": 25,
   "id": "41d603a6-0046-42da-971e-c899286aa4c4",
   "metadata": {},
   "outputs": [],
   "source": [
    "# Build a Transaction Graph\n",
    "\n",
    "# Nodes: Each node represents a wallet or address.\n",
    "# Edges: Each edge represents an event (sale or transfer).\n",
    "# In sale events, the edge connects the seller to the buyer.\n",
    "# In transfer events, the edge connects the sender to the receiver."
   ]
  }
 ],
 "metadata": {
  "kernelspec": {
   "display_name": "Python 3 (ipykernel)",
   "language": "python",
   "name": "python3"
  },
  "language_info": {
   "codemirror_mode": {
    "name": "ipython",
    "version": 3
   },
   "file_extension": ".py",
   "mimetype": "text/x-python",
   "name": "python",
   "nbconvert_exporter": "python",
   "pygments_lexer": "ipython3",
   "version": "3.11.6"
  }
 },
 "nbformat": 4,
 "nbformat_minor": 5
}
