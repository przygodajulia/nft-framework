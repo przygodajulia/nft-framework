{
 "cells": [
  {
   "cell_type": "code",
   "execution_count": 11,
   "id": "87f7e17d-254a-4d28-aeb3-a1d080a65cd8",
   "metadata": {},
   "outputs": [],
   "source": [
    "import sys\n",
    "sys.path.append('/home/jovyan/work') # here add notebooks if fails"
   ]
  },
  {
   "cell_type": "code",
   "execution_count": 12,
   "id": "3e144b9c-ee18-4ecf-8130-4cb8dc5fe58b",
   "metadata": {},
   "outputs": [],
   "source": [
    "from pyspark.sql import SparkSession\n",
    "import nbimporter\n",
    "from utils.vault_scripts import read_root_token, get_secret_from_vault\n",
    "from pyspark.sql import functions as F\n",
    "from pyspark.sql.functions import explode, col, when, lit, expr\n",
    "from graphframes import GraphFrame"
   ]
  },
  {
   "cell_type": "code",
   "execution_count": 13,
   "id": "8c4280ea-e6b2-4a2e-a59e-b5476342ca85",
   "metadata": {},
   "outputs": [],
   "source": [
    "spark = SparkSession.builder.appName(\"ExpDataAnalysisExchangeRates\").getOrCreate()"
   ]
  },
  {
   "cell_type": "code",
   "execution_count": 14,
   "id": "a1c934f3-8f8a-4bf7-96e6-e94eb1583e81",
   "metadata": {},
   "outputs": [],
   "source": [
    "hadoopConf = spark._jsc.hadoopConfiguration()"
   ]
  },
  {
   "cell_type": "code",
   "execution_count": 15,
   "id": "b95792a1-9b6f-4181-b2a1-966bd8229d46",
   "metadata": {},
   "outputs": [],
   "source": [
    "AWS_KEY_ID = get_secret_from_vault(\"aws1\", \"keyid\")\n",
    "AWS_ACCESS_KEY = get_secret_from_vault(\"aws2\", \"accesskey\")\n",
    "AWS_S3_BUCKET = get_secret_from_vault(\"aws3\", \"s3bucket\")"
   ]
  },
  {
   "cell_type": "code",
   "execution_count": 16,
   "id": "0184b0df-03d6-44c3-8ad1-88d920681b07",
   "metadata": {},
   "outputs": [],
   "source": [
    "hadoopConf.set(\"fs.s3a.access.key\", AWS_KEY_ID)\n",
    "hadoopConf.set(\"fs.s3a.secret.key\", AWS_ACCESS_KEY)\n",
    "hadoopConf.set(\"spark.hadoop.fs.s3a.aws.credentials.provider\", \"org.apache.hadoop.fs.s3a.SimpleAWSCredentialsProvider\")"
   ]
  },
  {
   "cell_type": "code",
   "execution_count": 80,
   "id": "6756b1ca-d708-4591-ac13-b7a7d6b20370",
   "metadata": {},
   "outputs": [],
   "source": [
    "exchange_rate_eth_path = f\"s3a://{AWS_S3_BUCKET}/raw/exchange_rates_usd_hourly/ETH/*.json\""
   ]
  },
  {
   "cell_type": "code",
   "execution_count": 81,
   "id": "f82ae824-9a43-4be9-a42e-11be69657cfa",
   "metadata": {},
   "outputs": [],
   "source": [
    "pol_df = spark.read.json(exchange_rate_eth_path)"
   ]
  },
  {
   "cell_type": "code",
   "execution_count": 82,
   "id": "834fb6f0-070e-4066-b1b0-ab288141d9d2",
   "metadata": {},
   "outputs": [
    {
     "name": "stdout",
     "output_type": "stream",
     "text": [
      "root\n",
      " |-- Data: struct (nullable = true)\n",
      " |    |-- Aggregated: boolean (nullable = true)\n",
      " |    |-- Data: array (nullable = true)\n",
      " |    |    |-- element: struct (containsNull = true)\n",
      " |    |    |    |-- close: double (nullable = true)\n",
      " |    |    |    |-- conversionSymbol: string (nullable = true)\n",
      " |    |    |    |-- conversionType: string (nullable = true)\n",
      " |    |    |    |-- high: double (nullable = true)\n",
      " |    |    |    |-- low: double (nullable = true)\n",
      " |    |    |    |-- open: double (nullable = true)\n",
      " |    |    |    |-- time: long (nullable = true)\n",
      " |    |    |    |-- volumefrom: double (nullable = true)\n",
      " |    |    |    |-- volumeto: double (nullable = true)\n",
      " |    |-- TimeFrom: long (nullable = true)\n",
      " |    |-- TimeTo: long (nullable = true)\n",
      " |-- HasWarning: boolean (nullable = true)\n",
      " |-- Message: string (nullable = true)\n",
      " |-- Response: string (nullable = true)\n",
      " |-- Type: long (nullable = true)\n",
      "\n"
     ]
    }
   ],
   "source": [
    "pol_df.printSchema()"
   ]
  },
  {
   "cell_type": "code",
   "execution_count": 83,
   "id": "0c79d464-6fa0-4b69-85dc-41794a3ea184",
   "metadata": {},
   "outputs": [
    {
     "name": "stdout",
     "output_type": "stream",
     "text": [
      "root\n",
      " |-- data: struct (nullable = true)\n",
      " |    |-- close: double (nullable = true)\n",
      " |    |-- conversionSymbol: string (nullable = true)\n",
      " |    |-- conversionType: string (nullable = true)\n",
      " |    |-- high: double (nullable = true)\n",
      " |    |-- low: double (nullable = true)\n",
      " |    |-- open: double (nullable = true)\n",
      " |    |-- time: long (nullable = true)\n",
      " |    |-- volumefrom: double (nullable = true)\n",
      " |    |-- volumeto: double (nullable = true)\n",
      "\n"
     ]
    }
   ],
   "source": [
    "pol_df_exploded = pol_df.select(explode(col(\"Data.Data\")).alias(\"data\"))\n",
    "pol_df_exploded.printSchema()"
   ]
  },
  {
   "cell_type": "code",
   "execution_count": 84,
   "id": "cc5115e3-3a5a-4043-a4b3-4c5e089eba45",
   "metadata": {},
   "outputs": [
    {
     "data": {
      "text/plain": [
       "[Row(data=Row(close=3146.45, conversionSymbol='', conversionType='direct', high=3165.76, low=3140.41, open=3165.07, time=1722574800, volumefrom=12500.54, volumeto=39420155.2))]"
      ]
     },
     "execution_count": 84,
     "metadata": {},
     "output_type": "execute_result"
    }
   ],
   "source": [
    "pol_df_exploded.take(1)"
   ]
  },
  {
   "cell_type": "code",
   "execution_count": 89,
   "id": "e0880895-6484-43b5-8da3-2856fe967f91",
   "metadata": {},
   "outputs": [
    {
     "name": "stdout",
     "output_type": "stream",
     "text": [
      "+-------+---------------------------------------------+\n",
      "|  close|from_unixtime(data.time, yyyy-MM-dd HH:mm:ss)|\n",
      "+-------+---------------------------------------------+\n",
      "|2546.87|                          2024-10-24 00:00:00|\n",
      "|2542.83|                          2024-10-24 01:00:00|\n",
      "|2553.22|                          2024-10-24 02:00:00|\n",
      "|2542.29|                          2024-10-24 03:00:00|\n",
      "|2550.84|                          2024-10-24 04:00:00|\n",
      "|2554.89|                          2024-10-24 05:00:00|\n",
      "|2546.16|                          2024-10-24 06:00:00|\n",
      "|2540.58|                          2024-10-24 07:00:00|\n",
      "| 2517.0|                          2024-10-24 08:00:00|\n",
      "|2518.91|                          2024-10-24 09:00:00|\n",
      "|2523.31|                          2024-10-24 10:00:00|\n",
      "|2524.97|                          2024-10-24 11:00:00|\n",
      "|2526.15|                          2024-10-24 12:00:00|\n",
      "|2527.33|                          2024-10-24 13:00:00|\n",
      "+-------+---------------------------------------------+\n",
      "\n"
     ]
    }
   ],
   "source": [
    "# Get today's date\n",
    "today = F.current_date()\n",
    "\n",
    "# Filter data for today\n",
    "pol_data_today_df = pol_data_df.filter(\n",
    "    F.to_date(F.from_unixtime(F.col(\"data.time\"))) == today\n",
    ")\n",
    "\n",
    "pol_data_today_df.show()"
   ]
  },
  {
   "cell_type": "code",
   "execution_count": 86,
   "id": "247dfbd0-747e-4888-80c4-44ac2b8f5e96",
   "metadata": {},
   "outputs": [
    {
     "name": "stdout",
     "output_type": "stream",
     "text": [
      "+-------+---------------------------------------------+\n",
      "|  close|from_unixtime(data.time, yyyy-MM-dd HH:mm:ss)|\n",
      "+-------+---------------------------------------------+\n",
      "|3146.45|                          2024-08-02 05:00:00|\n",
      "|3152.93|                          2024-08-02 06:00:00|\n",
      "|3144.83|                          2024-08-02 07:00:00|\n",
      "|3157.08|                          2024-08-02 08:00:00|\n",
      "|3150.33|                          2024-08-02 09:00:00|\n",
      "|3156.37|                          2024-08-02 10:00:00|\n",
      "|3151.13|                          2024-08-02 11:00:00|\n",
      "|3151.17|                          2024-08-02 12:00:00|\n",
      "|3158.42|                          2024-08-02 13:00:00|\n",
      "|3035.85|                          2024-08-02 14:00:00|\n",
      "|3036.51|                          2024-08-02 15:00:00|\n",
      "|3024.84|                          2024-08-02 16:00:00|\n",
      "|3022.94|                          2024-08-02 17:00:00|\n",
      "|3012.12|                          2024-08-02 18:00:00|\n",
      "|3008.36|                          2024-08-02 19:00:00|\n",
      "|3016.63|                          2024-08-02 20:00:00|\n",
      "|3000.54|                          2024-08-02 21:00:00|\n",
      "|2974.95|                          2024-08-02 22:00:00|\n",
      "|2985.72|                          2024-08-02 23:00:00|\n",
      "|2958.93|                          2024-08-03 00:00:00|\n",
      "+-------+---------------------------------------------+\n",
      "only showing top 20 rows\n",
      "\n"
     ]
    }
   ],
   "source": [
    "pol_data_df = pol_df_exploded.select(\n",
    "    col(\"data.close\"),\n",
    "    F.from_unixtime(col(\"data.time\"))\n",
    ")\n",
    "pol_data_df.show()"
   ]
  },
  {
   "cell_type": "code",
   "execution_count": 77,
   "id": "758ba31c-afe6-41ac-88f3-23a6b0cb1ed6",
   "metadata": {},
   "outputs": [
    {
     "name": "stdout",
     "output_type": "stream",
     "text": [
      "+-------------------+-------------------+\n",
      "|min_event_timestamp|max_event_timestamp|\n",
      "+-------------------+-------------------+\n",
      "|2024-05-10 21:00:00|2024-10-24 13:00:00|\n",
      "+-------------------+-------------------+\n",
      "\n"
     ]
    }
   ],
   "source": [
    "min_max_timestamps_pol = pol_df_exploded.agg(\n",
    "    F.from_unixtime(F.min(\"data.time\")).alias(\"min_event_timestamp\"),\n",
    "    F.from_unixtime(F.max(\"data.time\")).alias(\"max_event_timestamp\")\n",
    ")\n",
    "min_max_timestamps_pol.show()"
   ]
  },
  {
   "cell_type": "code",
   "execution_count": null,
   "id": "a3095018-05e2-4266-804a-a110df2c35a9",
   "metadata": {},
   "outputs": [],
   "source": []
  },
  {
   "cell_type": "code",
   "execution_count": null,
   "id": "70ddc110-2c7b-49fa-854f-badd9685d580",
   "metadata": {},
   "outputs": [],
   "source": []
  }
 ],
 "metadata": {
  "kernelspec": {
   "display_name": "Python 3 (ipykernel)",
   "language": "python",
   "name": "python3"
  },
  "language_info": {
   "codemirror_mode": {
    "name": "ipython",
    "version": 3
   },
   "file_extension": ".py",
   "mimetype": "text/x-python",
   "name": "python",
   "nbconvert_exporter": "python",
   "pygments_lexer": "ipython3",
   "version": "3.11.6"
  }
 },
 "nbformat": 4,
 "nbformat_minor": 5
}
