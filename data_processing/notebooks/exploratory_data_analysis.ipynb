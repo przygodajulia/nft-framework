{
 "cells": [
  {
   "cell_type": "code",
   "execution_count": 2,
   "id": "71ff9602-2309-40a3-b20d-2acdbba2a44f",
   "metadata": {},
   "outputs": [],
   "source": [
    "import sys\n",
    "sys.path.append('/home/jovyan/work')"
   ]
  },
  {
   "cell_type": "code",
   "execution_count": 3,
   "id": "b89fd476-257d-4980-b4e8-088e662f6eaf",
   "metadata": {},
   "outputs": [],
   "source": [
    "from pyspark.sql import SparkSession\n",
    "import nbimporter\n",
    "from utils.vault_scripts import read_root_token, get_secret_from_vault\n",
    "import os"
   ]
  },
  {
   "cell_type": "code",
   "execution_count": 6,
   "id": "2d2cccb6-515a-4eac-a72b-fabe31c1e5a6",
   "metadata": {},
   "outputs": [],
   "source": [
    "spark = SparkSession.builder.appName(\"S3App\").getOrCreate()"
   ]
  },
  {
   "cell_type": "code",
   "execution_count": 7,
   "id": "330d3d06-0af2-4a44-bbe1-b7ebc063f5d4",
   "metadata": {},
   "outputs": [],
   "source": [
    "hadoopConf = spark._jsc.hadoopConfiguration()"
   ]
  },
  {
   "cell_type": "code",
   "execution_count": 8,
   "id": "1286eeda-15bd-4435-8e29-8d20627f05aa",
   "metadata": {},
   "outputs": [],
   "source": [
    "AWS_KEY_ID = get_secret_from_vault(\"aws1\", \"keyid\")\n",
    "AWS_ACCESS_KEY = get_secret_from_vault(\"aws2\", \"accesskey\")\n",
    "AWS_S3_BUCKET = get_secret_from_vault(\"aws3\", \"s3bucket\")"
   ]
  },
  {
   "cell_type": "code",
   "execution_count": 9,
   "id": "23c773db-6030-4181-8792-cc1b0f15afe3",
   "metadata": {},
   "outputs": [],
   "source": [
    "hadoopConf.set(\"fs.s3a.access.key\", AWS_KEY_ID)\n",
    "hadoopConf.set(\"fs.s3a.secret.key\", AWS_ACCESS_KEY)\n",
    "hadoopConf.set(\"spark.hadoop.fs.s3a.aws.credentials.provider\", \"org.apache.hadoop.fs.s3a.SimpleAWSCredentialsProvider\")"
   ]
  },
  {
   "cell_type": "code",
   "execution_count": 10,
   "id": "f3b148f6-35d3-4049-9f27-7d69b59351c4",
   "metadata": {},
   "outputs": [],
   "source": [
    "s3_path = f\"s3a://{AWS_S3_BUCKET}/raw/opensea_events_page_99.json\""
   ]
  },
  {
   "cell_type": "code",
   "execution_count": 11,
   "id": "ef92f72d-fc8d-4cf0-a032-f67b36fd3b02",
   "metadata": {},
   "outputs": [],
   "source": [
    "df = spark.read.json(s3_path)"
   ]
  },
  {
   "cell_type": "code",
   "execution_count": 12,
   "id": "d2912e32-e794-4cc8-9fad-e9f6dd46ce58",
   "metadata": {},
   "outputs": [
    {
     "name": "stdout",
     "output_type": "stream",
     "text": [
      "+--------------------+\n",
      "|        asset_events|\n",
      "+--------------------+\n",
      "|[{NULL, ethereum,...|\n",
      "+--------------------+\n",
      "\n"
     ]
    }
   ],
   "source": [
    "df.select('asset_events').show()"
   ]
  },
  {
   "cell_type": "code",
   "execution_count": null,
   "id": "b074de19-23e2-4c23-8ef1-eca1e6c9312f",
   "metadata": {},
   "outputs": [],
   "source": [
    "# First check time frame that is included by single API call"
   ]
  },
  {
   "cell_type": "code",
   "execution_count": null,
   "id": "7059fcea-7024-49ad-92fd-4de33e776127",
   "metadata": {},
   "outputs": [],
   "source": []
  },
  {
   "cell_type": "code",
   "execution_count": null,
   "id": "47a4633d-b2d2-4847-bd30-cd9590339b60",
   "metadata": {},
   "outputs": [],
   "source": []
  }
 ],
 "metadata": {
  "kernelspec": {
   "display_name": "Python 3 (ipykernel)",
   "language": "python",
   "name": "python3"
  },
  "language_info": {
   "codemirror_mode": {
    "name": "ipython",
    "version": 3
   },
   "file_extension": ".py",
   "mimetype": "text/x-python",
   "name": "python",
   "nbconvert_exporter": "python",
   "pygments_lexer": "ipython3",
   "version": "3.11.6"
  }
 },
 "nbformat": 4,
 "nbformat_minor": 5
}
