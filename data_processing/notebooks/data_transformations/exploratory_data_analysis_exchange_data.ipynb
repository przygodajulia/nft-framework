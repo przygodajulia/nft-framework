{
 "cells": [
  {
   "cell_type": "code",
   "execution_count": 1,
   "id": "87f7e17d-254a-4d28-aeb3-a1d080a65cd8",
   "metadata": {},
   "outputs": [],
   "source": [
    "import sys\n",
    "sys.path.append('/home/jovyan/work') # here add notebooks if fails"
   ]
  },
  {
   "cell_type": "code",
   "execution_count": 2,
   "id": "3e144b9c-ee18-4ecf-8130-4cb8dc5fe58b",
   "metadata": {},
   "outputs": [],
   "source": [
    "from pyspark.sql import SparkSession\n",
    "import nbimporter\n",
    "from utils.vault_scripts import read_root_token, get_secret_from_vault\n",
    "from pyspark.sql import functions as F\n",
    "from pyspark.sql.functions import explode, col, when, lit, expr\n",
    "from graphframes import GraphFrame"
   ]
  },
  {
   "cell_type": "code",
   "execution_count": 3,
   "id": "8c4280ea-e6b2-4a2e-a59e-b5476342ca85",
   "metadata": {},
   "outputs": [],
   "source": [
    "spark = SparkSession.builder.appName(\"ExpDataAnalysisExchangeRates\").getOrCreate()"
   ]
  },
  {
   "cell_type": "code",
   "execution_count": 4,
   "id": "a1c934f3-8f8a-4bf7-96e6-e94eb1583e81",
   "metadata": {},
   "outputs": [],
   "source": [
    "hadoopConf = spark._jsc.hadoopConfiguration()"
   ]
  },
  {
   "cell_type": "code",
   "execution_count": 5,
   "id": "b95792a1-9b6f-4181-b2a1-966bd8229d46",
   "metadata": {},
   "outputs": [],
   "source": [
    "AWS_KEY_ID = get_secret_from_vault(\"aws1\", \"keyid\")\n",
    "AWS_ACCESS_KEY = get_secret_from_vault(\"aws2\", \"accesskey\")\n",
    "AWS_S3_BUCKET = get_secret_from_vault(\"aws3\", \"s3bucket\")"
   ]
  },
  {
   "cell_type": "code",
   "execution_count": 6,
   "id": "0184b0df-03d6-44c3-8ad1-88d920681b07",
   "metadata": {},
   "outputs": [],
   "source": [
    "hadoopConf.set(\"fs.s3a.access.key\", AWS_KEY_ID)\n",
    "hadoopConf.set(\"fs.s3a.secret.key\", AWS_ACCESS_KEY)\n",
    "hadoopConf.set(\"spark.hadoop.fs.s3a.aws.credentials.provider\", \"org.apache.hadoop.fs.s3a.SimpleAWSCredentialsProvider\")"
   ]
  },
  {
   "cell_type": "code",
   "execution_count": 7,
   "id": "6756b1ca-d708-4591-ac13-b7a7d6b20370",
   "metadata": {},
   "outputs": [],
   "source": [
    "exchange_rate_ccix_path = f\"s3a://{AWS_S3_BUCKET}/raw/exchange_rates_usd/*/*.json\""
   ]
  },
  {
   "cell_type": "code",
   "execution_count": 8,
   "id": "f82ae824-9a43-4be9-a42e-11be69657cfa",
   "metadata": {},
   "outputs": [],
   "source": [
    "ex_ccix_df = spark.read.json(exchange_rate_ccix_path)"
   ]
  },
  {
   "cell_type": "code",
   "execution_count": 9,
   "id": "834fb6f0-070e-4066-b1b0-ab288141d9d2",
   "metadata": {},
   "outputs": [
    {
     "name": "stdout",
     "output_type": "stream",
     "text": [
      "root\n",
      " |-- CLOSE: double (nullable = true)\n",
      " |-- FIRST_MESSAGE_TIMESTAMP: long (nullable = true)\n",
      " |-- FIRST_MESSAGE_VALUE: double (nullable = true)\n",
      " |-- HIGH: double (nullable = true)\n",
      " |-- HIGH_MESSAGE_TIMESTAMP: long (nullable = true)\n",
      " |-- HIGH_MESSAGE_VALUE: double (nullable = true)\n",
      " |-- INSTRUMENT: string (nullable = true)\n",
      " |-- LAST_MESSAGE_TIMESTAMP: long (nullable = true)\n",
      " |-- LAST_MESSAGE_VALUE: double (nullable = true)\n",
      " |-- LOW: double (nullable = true)\n",
      " |-- LOW_MESSAGE_TIMESTAMP: long (nullable = true)\n",
      " |-- LOW_MESSAGE_VALUE: double (nullable = true)\n",
      " |-- MARKET: string (nullable = true)\n",
      " |-- OPEN: double (nullable = true)\n",
      " |-- QUOTE_VOLUME: double (nullable = true)\n",
      " |-- QUOTE_VOLUME_DIRECT: double (nullable = true)\n",
      " |-- QUOTE_VOLUME_TOP_TIER: double (nullable = true)\n",
      " |-- QUOTE_VOLUME_TOP_TIER_DIRECT: double (nullable = true)\n",
      " |-- TIMESTAMP: long (nullable = true)\n",
      " |-- TOTAL_INDEX_UPDATES: long (nullable = true)\n",
      " |-- TYPE: string (nullable = true)\n",
      " |-- UNIT: string (nullable = true)\n",
      " |-- VOLUME: double (nullable = true)\n",
      " |-- VOLUME_DIRECT: double (nullable = true)\n",
      " |-- VOLUME_TOP_TIER: double (nullable = true)\n",
      " |-- VOLUME_TOP_TIER_DIRECT: double (nullable = true)\n",
      "\n"
     ]
    }
   ],
   "source": [
    "ex_ccix_df.printSchema()"
   ]
  },
  {
   "cell_type": "code",
   "execution_count": null,
   "id": "0c79d464-6fa0-4b69-85dc-41794a3ea184",
   "metadata": {},
   "outputs": [],
   "source": []
  }
 ],
 "metadata": {
  "kernelspec": {
   "display_name": "Python 3 (ipykernel)",
   "language": "python",
   "name": "python3"
  },
  "language_info": {
   "codemirror_mode": {
    "name": "ipython",
    "version": 3
   },
   "file_extension": ".py",
   "mimetype": "text/x-python",
   "name": "python",
   "nbconvert_exporter": "python",
   "pygments_lexer": "ipython3",
   "version": "3.11.6"
  }
 },
 "nbformat": 4,
 "nbformat_minor": 5
}
