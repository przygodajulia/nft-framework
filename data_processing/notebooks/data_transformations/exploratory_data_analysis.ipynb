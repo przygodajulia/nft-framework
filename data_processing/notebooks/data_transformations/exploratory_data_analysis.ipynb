{
 "cells": [
  {
   "cell_type": "code",
   "execution_count": 2,
   "id": "e8dc5fd5-22cc-4be0-a6df-803aaa419e5c",
   "metadata": {},
   "outputs": [],
   "source": [
    "### Exploratory data analysis notebook"
   ]
  },
  {
   "cell_type": "code",
   "execution_count": 3,
   "id": "a05fa394-a612-4895-9258-b74621fc23ea",
   "metadata": {},
   "outputs": [
    {
     "name": "stdout",
     "output_type": "stream",
     "text": [
      "Collecting graphframes\n",
      "  Downloading graphframes-0.6-py2.py3-none-any.whl.metadata (934 bytes)\n",
      "Requirement already satisfied: numpy in /opt/conda/lib/python3.11/site-packages (from graphframes) (1.24.4)\n",
      "Collecting nose (from graphframes)\n",
      "  Downloading nose-1.3.7-py3-none-any.whl.metadata (1.7 kB)\n",
      "Downloading graphframes-0.6-py2.py3-none-any.whl (18 kB)\n",
      "Downloading nose-1.3.7-py3-none-any.whl (154 kB)\n",
      "\u001b[2K   \u001b[90m━━━━━━━━━━━━━━━━━━━━━━━━━━━━━━━━━━━━━━━━\u001b[0m \u001b[32m154.7/154.7 kB\u001b[0m \u001b[31m2.1 MB/s\u001b[0m eta \u001b[36m0:00:00\u001b[0m \u001b[36m0:00:01\u001b[0m\n",
      "\u001b[?25hInstalling collected packages: nose, graphframes\n",
      "Successfully installed graphframes-0.6 nose-1.3.7\n",
      "Collecting nbimporter\n",
      "  Downloading nbimporter-0.3.4-py3-none-any.whl.metadata (252 bytes)\n",
      "Downloading nbimporter-0.3.4-py3-none-any.whl (4.9 kB)\n",
      "Installing collected packages: nbimporter\n",
      "Successfully installed nbimporter-0.3.4\n",
      "Collecting hvac\n",
      "  Downloading hvac-2.3.0-py3-none-any.whl.metadata (3.3 kB)\n",
      "Requirement already satisfied: requests<3.0.0,>=2.27.1 in /opt/conda/lib/python3.11/site-packages (from hvac) (2.31.0)\n",
      "Requirement already satisfied: charset-normalizer<4,>=2 in /opt/conda/lib/python3.11/site-packages (from requests<3.0.0,>=2.27.1->hvac) (3.3.0)\n",
      "Requirement already satisfied: idna<4,>=2.5 in /opt/conda/lib/python3.11/site-packages (from requests<3.0.0,>=2.27.1->hvac) (3.4)\n",
      "Requirement already satisfied: urllib3<3,>=1.21.1 in /opt/conda/lib/python3.11/site-packages (from requests<3.0.0,>=2.27.1->hvac) (2.0.7)\n",
      "Requirement already satisfied: certifi>=2017.4.17 in /opt/conda/lib/python3.11/site-packages (from requests<3.0.0,>=2.27.1->hvac) (2023.7.22)\n",
      "Downloading hvac-2.3.0-py3-none-any.whl (155 kB)\n",
      "\u001b[2K   \u001b[90m━━━━━━━━━━━━━━━━━━━━━━━━━━━━━━━━━━━━━━━━\u001b[0m \u001b[32m155.9/155.9 kB\u001b[0m \u001b[31m2.2 MB/s\u001b[0m eta \u001b[36m0:00:00\u001b[0m \u001b[36m0:00:01\u001b[0m\n",
      "\u001b[?25hInstalling collected packages: hvac\n",
      "Successfully installed hvac-2.3.0\n"
     ]
    }
   ],
   "source": [
    "!pip install graphframes\n",
    "!pip install nbimporter\n",
    "!pip install hvac"
   ]
  },
  {
   "cell_type": "code",
   "execution_count": 4,
   "id": "913a3ba5-e26c-4edd-aa1e-22e89d68c0e3",
   "metadata": {},
   "outputs": [],
   "source": [
    "import sys\n",
    "sys.path.append('/home/jovyan/work') # here add notebooks if fails"
   ]
  },
  {
   "cell_type": "code",
   "execution_count": 127,
   "id": "b89fd476-257d-4980-b4e8-088e662f6eaf",
   "metadata": {},
   "outputs": [],
   "source": [
    "from pyspark.sql import SparkSession\n",
    "import nbimporter\n",
    "from utils.vault_scripts import read_root_token, get_secret_from_vault\n",
    "from pyspark.sql import functions as F\n",
    "from pyspark.sql.functions import explode, col, when, lit, expr\n",
    "from graphframes import GraphFrame"
   ]
  },
  {
   "cell_type": "code",
   "execution_count": 6,
   "id": "970b38b2-d885-4711-a3b4-ffc19eaeeb61",
   "metadata": {},
   "outputs": [],
   "source": [
    "# S3 and Spark configuration"
   ]
  },
  {
   "cell_type": "code",
   "execution_count": 7,
   "id": "2d2cccb6-515a-4eac-a72b-fabe31c1e5a6",
   "metadata": {},
   "outputs": [],
   "source": [
    "spark = SparkSession.builder.appName(\"ExpDataAnalysis\").getOrCreate()"
   ]
  },
  {
   "cell_type": "code",
   "execution_count": 8,
   "id": "330d3d06-0af2-4a44-bbe1-b7ebc063f5d4",
   "metadata": {},
   "outputs": [],
   "source": [
    "hadoopConf = spark._jsc.hadoopConfiguration()"
   ]
  },
  {
   "cell_type": "code",
   "execution_count": 9,
   "id": "1286eeda-15bd-4435-8e29-8d20627f05aa",
   "metadata": {},
   "outputs": [],
   "source": [
    "AWS_KEY_ID = get_secret_from_vault(\"aws1\", \"keyid\")\n",
    "AWS_ACCESS_KEY = get_secret_from_vault(\"aws2\", \"accesskey\")\n",
    "AWS_S3_BUCKET = get_secret_from_vault(\"aws3\", \"s3bucket\")"
   ]
  },
  {
   "cell_type": "code",
   "execution_count": 10,
   "id": "23c773db-6030-4181-8792-cc1b0f15afe3",
   "metadata": {},
   "outputs": [],
   "source": [
    "hadoopConf.set(\"fs.s3a.access.key\", AWS_KEY_ID)\n",
    "hadoopConf.set(\"fs.s3a.secret.key\", AWS_ACCESS_KEY)\n",
    "hadoopConf.set(\"spark.hadoop.fs.s3a.aws.credentials.provider\", \"org.apache.hadoop.fs.s3a.SimpleAWSCredentialsProvider\")"
   ]
  },
  {
   "cell_type": "code",
   "execution_count": 11,
   "id": "49130ddf-bb7e-4e7d-8a3d-04e31b0069ea",
   "metadata": {},
   "outputs": [],
   "source": [
    "# Reading all data samples for one NFT collection"
   ]
  },
  {
   "cell_type": "code",
   "execution_count": 95,
   "id": "f3b148f6-35d3-4049-9f27-7d69b59351c4",
   "metadata": {},
   "outputs": [],
   "source": [
    "s3_path_big = f\"s3a://{AWS_S3_BUCKET}/raw/opensea_data/referencedata2/*.json\"\n",
    "s3_path_small = f\"s3a://{AWS_S3_BUCKET}/raw/opensea_data/pudgypenguins/*.json\""
   ]
  },
  {
   "cell_type": "code",
   "execution_count": 96,
   "id": "ef92f72d-fc8d-4cf0-a032-f67b36fd3b02",
   "metadata": {},
   "outputs": [],
   "source": [
    "df_big = spark.read.json(s3_path_big)"
   ]
  },
  {
   "cell_type": "code",
   "execution_count": 97,
   "id": "88fed434-cab1-4563-b573-aebe0d5cb121",
   "metadata": {},
   "outputs": [],
   "source": [
    "df_small = spark.read.json(s3_path_small)"
   ]
  },
  {
   "cell_type": "code",
   "execution_count": 99,
   "id": "ed2fb639-6869-459e-a48d-145c7a867407",
   "metadata": {},
   "outputs": [],
   "source": [
    "df_asset_events_big = df_big.select(explode(col(\"asset_events\")).alias(\"event\"))"
   ]
  },
  {
   "cell_type": "code",
   "execution_count": 101,
   "id": "93c5053b-140c-4682-b447-830fce260d5d",
   "metadata": {},
   "outputs": [],
   "source": [
    "df_asset_events_flat_small = df_small.select(\n",
    "    col(\"transaction\"),\n",
    "    col(\"event_type\"),\n",
    "    col(\"buyer\"),\n",
    "    col(\"seller\"),\n",
    "    col(\"from_address\"),\n",
    "    col(\"to_address\"),\n",
    "    col(\"quantity\"),\n",
    "    col(\"event_timestamp\"),\n",
    "    col(\"order_hash\"),\n",
    "    col(\"nft.identifier\"),\n",
    "    col(\"nft.collection\"),\n",
    "    col(\"nft.contract\"),\n",
    "    col(\"payment.decimals\"),\n",
    "    col(\"payment.quantity\").alias(\"payment_quantity\"),\n",
    "    col(\"payment.symbol\"),\n",
    "    col(\"payment.token_address\")\n",
    ")"
   ]
  },
  {
   "cell_type": "code",
   "execution_count": 102,
   "id": "d8d421c9-37cb-4ef6-809b-53c5cc63d66b",
   "metadata": {},
   "outputs": [],
   "source": [
    "df_asset_events_flat_big = df_asset_events_big.select(\n",
    "    col(\"event.transaction\"),\n",
    "    col(\"event.event_type\"),\n",
    "    col(\"event.buyer\"),\n",
    "    col(\"event.seller\"),\n",
    "    col(\"event.from_address\"),\n",
    "    col(\"event.to_address\"),\n",
    "    col(\"event.quantity\"),\n",
    "    col(\"event.event_timestamp\"),\n",
    "    col(\"event.order_hash\"),\n",
    "    col(\"event.nft.identifier\"),\n",
    "    col(\"event.nft.collection\"),\n",
    "    col(\"event.nft.contract\"),\n",
    "    col(\"event.payment.decimals\"),\n",
    "    col(\"event.payment.quantity\").alias(\"payment_quantity\"),\n",
    "    col(\"event.payment.symbol\"),\n",
    "    col(\"event.payment.token_address\")\n",
    ")"
   ]
  },
  {
   "cell_type": "code",
   "execution_count": 112,
   "id": "92bf9eab-2308-41d1-a8b4-b15ac96fee61",
   "metadata": {},
   "outputs": [
    {
     "data": {
      "text/plain": [
       "97916"
      ]
     },
     "execution_count": 112,
     "metadata": {},
     "output_type": "execute_result"
    }
   ],
   "source": [
    "df_asset_events_flat_big.count()"
   ]
  },
  {
   "cell_type": "code",
   "execution_count": 113,
   "id": "77bbd601-f2e2-4140-b9ea-0033b805d602",
   "metadata": {},
   "outputs": [
    {
     "name": "stdout",
     "output_type": "stream",
     "text": [
      "root\n",
      " |-- transaction: string (nullable = true)\n",
      " |-- event_type: string (nullable = true)\n",
      " |-- buyer: string (nullable = true)\n",
      " |-- seller: string (nullable = true)\n",
      " |-- from_address: string (nullable = true)\n",
      " |-- to_address: string (nullable = true)\n",
      " |-- quantity: long (nullable = true)\n",
      " |-- event_timestamp: long (nullable = true)\n",
      " |-- order_hash: string (nullable = true)\n",
      " |-- identifier: string (nullable = true)\n",
      " |-- collection: string (nullable = true)\n",
      " |-- contract: string (nullable = true)\n",
      " |-- decimals: long (nullable = true)\n",
      " |-- payment_quantity: string (nullable = true)\n",
      " |-- symbol: string (nullable = true)\n",
      " |-- token_address: string (nullable = true)\n",
      "\n"
     ]
    }
   ],
   "source": [
    "df_asset_events_flat_big.printSchema()"
   ]
  },
  {
   "cell_type": "code",
   "execution_count": 105,
   "id": "5006e087-94f7-47d3-bda9-6afc916e4bac",
   "metadata": {},
   "outputs": [
    {
     "data": {
      "text/plain": [
       "12177"
      ]
     },
     "execution_count": 105,
     "metadata": {},
     "output_type": "execute_result"
    }
   ],
   "source": [
    "df_asset_events_flat_small.count()\n",
    "# 157470 - cryptopunks\n",
    "# 97916 - pudgypenguins / referencedata2 > 12177\n",
    "# 14903 - boredapeyachtclub (SO DATA IS MISSING AFTER MOVING) / reference"
   ]
  },
  {
   "cell_type": "code",
   "execution_count": 114,
   "id": "e75513f1-9d12-41b3-8542-83b3ef2f2f22",
   "metadata": {},
   "outputs": [
    {
     "name": "stdout",
     "output_type": "stream",
     "text": [
      "+--------------------+----------+-------------+----------+-----+\n",
      "|         transaction|identifier|   collection|event_type|count|\n",
      "+--------------------+----------+-------------+----------+-----+\n",
      "|0x2c8c3470effc4c4...|      1987|pudgypenguins|      sale|    8|\n",
      "|0x4a6dcbeb759e472...|      6197|pudgypenguins|  transfer|    8|\n",
      "|0x1f1f635b3840388...|      5930|pudgypenguins|      sale|    8|\n",
      "|0xc42c5aec9e3fd0e...|      5491|pudgypenguins|  transfer|    8|\n",
      "|0x4369463e4d30b2f...|      6881|pudgypenguins|  transfer|    8|\n",
      "|0x5fd23c2c0262761...|       168|pudgypenguins|  transfer|    8|\n",
      "|0xe8ec5c316a52d35...|      3775|pudgypenguins|  transfer|    8|\n",
      "|0x80728f4c2ad0bbf...|      4105|pudgypenguins|      sale|    8|\n",
      "|0x95369d2d69eebc4...|      1188|pudgypenguins|  transfer|    8|\n",
      "|0x88df1674e882cd6...|      3628|pudgypenguins|  transfer|    8|\n",
      "|0x3ac2fd5f22fec90...|      4145|pudgypenguins|  transfer|    8|\n",
      "|0x14bd159e97c8a85...|      2640|pudgypenguins|  transfer|    8|\n",
      "|0x9e29dbedfadb65f...|      7924|pudgypenguins|  transfer|    8|\n",
      "|0x57833669da64993...|        55|pudgypenguins|      sale|    8|\n",
      "|0x7fe4ee1088f5fc4...|      3279|pudgypenguins|      sale|    8|\n",
      "|0x9e29dbedfadb65f...|      3354|pudgypenguins|      sale|    8|\n",
      "|0xdd4767d8429b711...|      3939|pudgypenguins|  transfer|    8|\n",
      "|0x2c8c3470effc4c4...|      3628|pudgypenguins|      sale|    8|\n",
      "|0xb98644f6fe23c51...|      8167|pudgypenguins|  transfer|    8|\n",
      "|0x9e29dbedfadb65f...|       113|pudgypenguins|  transfer|    8|\n",
      "+--------------------+----------+-------------+----------+-----+\n",
      "only showing top 20 rows\n",
      "\n"
     ]
    }
   ],
   "source": [
    "grouped_df_big = df_asset_events_flat_big.groupBy(\"transaction\", \"identifier\", \"collection\", \"event_type\").count()\n",
    "duplicates_df_big = grouped_df_big.filter(F.col(\"count\") > 1)\n",
    "duplicates_df_big.show()"
   ]
  },
  {
   "cell_type": "code",
   "execution_count": 110,
   "id": "0c958d43-2a1a-4bce-980f-bb6579756cdc",
   "metadata": {},
   "outputs": [
    {
     "name": "stdout",
     "output_type": "stream",
     "text": [
      "+-----------+----------+----------+----------+-----+\n",
      "|transaction|identifier|collection|event_type|count|\n",
      "+-----------+----------+----------+----------+-----+\n",
      "+-----------+----------+----------+----------+-----+\n",
      "\n"
     ]
    }
   ],
   "source": [
    "grouped_df_small = df_asset_events_flat_small.groupBy(\"transaction\", \"identifier\", \"collection\", \"event_type\").count()\n",
    "duplicates_df_small = grouped_df_small.filter(F.col(\"count\") > 1)\n",
    "duplicates_df_small.show()"
   ]
  },
  {
   "cell_type": "code",
   "execution_count": 115,
   "id": "f2427c16-2ac0-480c-ba36-016c5eab6ac7",
   "metadata": {},
   "outputs": [
    {
     "data": {
      "text/plain": [
       "[Row(transaction='0x2c8c3470effc4c46979b45be19db812427545567a1f20046803b40d5734b570b', identifier='1987', collection='pudgypenguins', event_type='sale', count=8),\n",
       " Row(transaction='0x4a6dcbeb759e472738455c15fdb6ed8e322a2cf373af3ff59960aa137188c7ae', identifier='6197', collection='pudgypenguins', event_type='transfer', count=8),\n",
       " Row(transaction='0x1f1f635b3840388c414ba7fb7660ebc0420b0f9025ad3f03d57a1ed17daa0901', identifier='5930', collection='pudgypenguins', event_type='sale', count=8),\n",
       " Row(transaction='0xc42c5aec9e3fd0e66385feba929ba1c2384c9665ad2da4e2b9f3e588fe771804', identifier='5491', collection='pudgypenguins', event_type='transfer', count=8),\n",
       " Row(transaction='0x4369463e4d30b2ffe77969bfea42679fc56f766c77a8b50460cbedee1eb4ea87', identifier='6881', collection='pudgypenguins', event_type='transfer', count=8)]"
      ]
     },
     "execution_count": 115,
     "metadata": {},
     "output_type": "execute_result"
    }
   ],
   "source": [
    "duplicates_df_big.take(5)"
   ]
  },
  {
   "cell_type": "code",
   "execution_count": 121,
   "id": "4b58dc15-f115-4549-a0aa-b66b18345833",
   "metadata": {},
   "outputs": [
    {
     "name": "stdout",
     "output_type": "stream",
     "text": [
      "Row(transaction='0x2c8c3470effc4c46979b45be19db812427545567a1f20046803b40d5734b570b', event_type='sale', buyer='0xf84a4eeca2953bf5c16f5fdad2ab85738be66244', seller='0xe5442ae87e0fef3f7cc43e507adf786c311a0529', from_address=None, to_address=None, quantity=1, event_timestamp=1692973835, order_hash='', identifier='1987', collection='pudgypenguins', contract='0xbd3531da5cf5857e7cfaa92426877b022e612cf8', decimals=18, payment_quantity='3940000000000000000', symbol='WETH', token_address='0xc02aaa39b223fe8d0a0e5c4f27ead9083c756cc2')\n",
      "Row(transaction='0x2c8c3470effc4c46979b45be19db812427545567a1f20046803b40d5734b570b', event_type='sale', buyer='0xf84a4eeca2953bf5c16f5fdad2ab85738be66244', seller='0xe5442ae87e0fef3f7cc43e507adf786c311a0529', from_address=None, to_address=None, quantity=1, event_timestamp=1692973835, order_hash='', identifier='1987', collection='pudgypenguins', contract='0xbd3531da5cf5857e7cfaa92426877b022e612cf8', decimals=18, payment_quantity='3940000000000000000', symbol='WETH', token_address='0xc02aaa39b223fe8d0a0e5c4f27ead9083c756cc2')\n",
      "Row(transaction='0x2c8c3470effc4c46979b45be19db812427545567a1f20046803b40d5734b570b', event_type='sale', buyer='0xf84a4eeca2953bf5c16f5fdad2ab85738be66244', seller='0xe5442ae87e0fef3f7cc43e507adf786c311a0529', from_address=None, to_address=None, quantity=1, event_timestamp=1692973835, order_hash='', identifier='1987', collection='pudgypenguins', contract='0xbd3531da5cf5857e7cfaa92426877b022e612cf8', decimals=18, payment_quantity='3940000000000000000', symbol='WETH', token_address='0xc02aaa39b223fe8d0a0e5c4f27ead9083c756cc2')\n",
      "Row(transaction='0x2c8c3470effc4c46979b45be19db812427545567a1f20046803b40d5734b570b', event_type='sale', buyer='0xf84a4eeca2953bf5c16f5fdad2ab85738be66244', seller='0xe5442ae87e0fef3f7cc43e507adf786c311a0529', from_address=None, to_address=None, quantity=1, event_timestamp=1692973835, order_hash='', identifier='1987', collection='pudgypenguins', contract='0xbd3531da5cf5857e7cfaa92426877b022e612cf8', decimals=18, payment_quantity='3940000000000000000', symbol='WETH', token_address='0xc02aaa39b223fe8d0a0e5c4f27ead9083c756cc2')\n",
      "Row(transaction='0x2c8c3470effc4c46979b45be19db812427545567a1f20046803b40d5734b570b', event_type='sale', buyer='0xf84a4eeca2953bf5c16f5fdad2ab85738be66244', seller='0xe5442ae87e0fef3f7cc43e507adf786c311a0529', from_address=None, to_address=None, quantity=1, event_timestamp=1692973835, order_hash='', identifier='1987', collection='pudgypenguins', contract='0xbd3531da5cf5857e7cfaa92426877b022e612cf8', decimals=18, payment_quantity='3940000000000000000', symbol='WETH', token_address='0xc02aaa39b223fe8d0a0e5c4f27ead9083c756cc2')\n",
      "Row(transaction='0x2c8c3470effc4c46979b45be19db812427545567a1f20046803b40d5734b570b', event_type='sale', buyer='0xf84a4eeca2953bf5c16f5fdad2ab85738be66244', seller='0xe5442ae87e0fef3f7cc43e507adf786c311a0529', from_address=None, to_address=None, quantity=1, event_timestamp=1692973835, order_hash='', identifier='1987', collection='pudgypenguins', contract='0xbd3531da5cf5857e7cfaa92426877b022e612cf8', decimals=18, payment_quantity='3940000000000000000', symbol='WETH', token_address='0xc02aaa39b223fe8d0a0e5c4f27ead9083c756cc2')\n",
      "Row(transaction='0x2c8c3470effc4c46979b45be19db812427545567a1f20046803b40d5734b570b', event_type='sale', buyer='0xf84a4eeca2953bf5c16f5fdad2ab85738be66244', seller='0xe5442ae87e0fef3f7cc43e507adf786c311a0529', from_address=None, to_address=None, quantity=1, event_timestamp=1692973835, order_hash='', identifier='1987', collection='pudgypenguins', contract='0xbd3531da5cf5857e7cfaa92426877b022e612cf8', decimals=18, payment_quantity='3940000000000000000', symbol='WETH', token_address='0xc02aaa39b223fe8d0a0e5c4f27ead9083c756cc2')\n",
      "Row(transaction='0x2c8c3470effc4c46979b45be19db812427545567a1f20046803b40d5734b570b', event_type='sale', buyer='0xf84a4eeca2953bf5c16f5fdad2ab85738be66244', seller='0xe5442ae87e0fef3f7cc43e507adf786c311a0529', from_address=None, to_address=None, quantity=1, event_timestamp=1692973835, order_hash='', identifier='1987', collection='pudgypenguins', contract='0xbd3531da5cf5857e7cfaa92426877b022e612cf8', decimals=18, payment_quantity='3940000000000000000', symbol='WETH', token_address='0xc02aaa39b223fe8d0a0e5c4f27ead9083c756cc2')\n"
     ]
    }
   ],
   "source": [
    "filtered_df_big = df_asset_events_flat_big.filter(\n",
    "    (df_asset_events_flat_big['transaction'] == '0x2c8c3470effc4c46979b45be19db812427545567a1f20046803b40d5734b570b') & \n",
    "    (df_asset_events_flat_big['identifier'] == '1987') & \n",
    "    (df_asset_events_flat_big['collection'] == 'pudgypenguins') & \n",
    "    (df_asset_events_flat_big['event_type'] == 'sale')\n",
    ")\n",
    "\n",
    "big_rows = filtered_df_big.collect()\n",
    "\n",
    "for row in big_rows:\n",
    "    print(row)\n"
   ]
  },
  {
   "cell_type": "code",
   "execution_count": 122,
   "id": "0d014b07-8403-4c65-8355-7c42b16f9bbe",
   "metadata": {},
   "outputs": [
    {
     "name": "stdout",
     "output_type": "stream",
     "text": [
      "Row(transaction='0x2c8c3470effc4c46979b45be19db812427545567a1f20046803b40d5734b570b', event_type='sale', buyer='0xf84a4eeca2953bf5c16f5fdad2ab85738be66244', seller='0xe5442ae87e0fef3f7cc43e507adf786c311a0529', from_address=None, to_address=None, quantity=1, event_timestamp=1692973835, order_hash='', identifier='1987', collection='pudgypenguins', contract='0xbd3531da5cf5857e7cfaa92426877b022e612cf8', decimals=18, payment_quantity='3940000000000000000', symbol='WETH', token_address='0xc02aaa39b223fe8d0a0e5c4f27ead9083c756cc2')\n"
     ]
    }
   ],
   "source": [
    "filtered_df_small = df_asset_events_flat_small.filter(\n",
    "    (df_asset_events_flat_small['transaction'] == '0x2c8c3470effc4c46979b45be19db812427545567a1f20046803b40d5734b570b') & \n",
    "    (df_asset_events_flat_small['identifier'] == '1987') & \n",
    "    (df_asset_events_flat_small['collection'] == 'pudgypenguins') & \n",
    "    (df_asset_events_flat_small['event_type'] == 'sale')\n",
    ")\n",
    "\n",
    "small_rows = filtered_df_small.collect()\n",
    "\n",
    "for row in small_rows:\n",
    "    print(row)"
   ]
  },
  {
   "cell_type": "code",
   "execution_count": 131,
   "id": "087b7fee-f356-4c52-b2cf-b9521abb15cd",
   "metadata": {},
   "outputs": [
    {
     "name": "stdout",
     "output_type": "stream",
     "text": [
      "+----------+--------------------------+\n",
      "|identifier|distinct_transaction_count|\n",
      "+----------+--------------------------+\n",
      "|4869      |104                       |\n",
      "|4372      |62                        |\n",
      "|2626      |58                        |\n",
      "|7326      |58                        |\n",
      "|5712      |53                        |\n",
      "|7258      |53                        |\n",
      "|3628      |49                        |\n",
      "|5104      |48                        |\n",
      "|180       |41                        |\n",
      "|6628      |41                        |\n",
      "|3694      |39                        |\n",
      "|6030      |39                        |\n",
      "|4481      |38                        |\n",
      "|533       |37                        |\n",
      "|2480      |36                        |\n",
      "|2804      |34                        |\n",
      "|4542      |34                        |\n",
      "|6093      |34                        |\n",
      "|6763      |34                        |\n",
      "|4019      |32                        |\n",
      "+----------+--------------------------+\n",
      "only showing top 20 rows\n",
      "\n"
     ]
    }
   ],
   "source": [
    "distinct_transactions_count_big = df_asset_events_flat_big.groupBy(\"identifier\") \\\n",
    "    .agg(F.countDistinct(\"transaction\").alias(\"distinct_transaction_count\")).orderBy(col(\"distinct_transaction_count\").desc(), col(\"identifier\").asc())\n",
    "\n",
    "distinct_transactions_count_big.show(truncate=False)"
   ]
  },
  {
   "cell_type": "code",
   "execution_count": 132,
   "id": "b8bf8956-d5d2-4de3-a78e-d852c929d3c7",
   "metadata": {},
   "outputs": [
    {
     "name": "stdout",
     "output_type": "stream",
     "text": [
      "+----------+--------------------------+\n",
      "|identifier|distinct_transaction_count|\n",
      "+----------+--------------------------+\n",
      "|4869      |104                       |\n",
      "|4372      |62                        |\n",
      "|2626      |58                        |\n",
      "|7326      |58                        |\n",
      "|5712      |53                        |\n",
      "|7258      |53                        |\n",
      "|3628      |49                        |\n",
      "|5104      |48                        |\n",
      "|180       |41                        |\n",
      "|6628      |41                        |\n",
      "|3694      |39                        |\n",
      "|6030      |39                        |\n",
      "|4481      |38                        |\n",
      "|533       |37                        |\n",
      "|2480      |36                        |\n",
      "|2804      |34                        |\n",
      "|4542      |34                        |\n",
      "|6093      |34                        |\n",
      "|6763      |34                        |\n",
      "|4019      |32                        |\n",
      "+----------+--------------------------+\n",
      "only showing top 20 rows\n",
      "\n"
     ]
    }
   ],
   "source": [
    "distinct_transactions_count_small = df_asset_events_flat_small.groupBy(\"identifier\") \\\n",
    "    .agg(F.countDistinct(\"transaction\").alias(\"distinct_transaction_count\")).orderBy(col(\"distinct_transaction_count\").desc(), col(\"identifier\").asc())\n",
    "\n",
    "distinct_transactions_count_small.show(truncate=False)"
   ]
  },
  {
   "cell_type": "code",
   "execution_count": 94,
   "id": "dfb33ebc-18c2-406a-b545-5e474706b329",
   "metadata": {},
   "outputs": [
    {
     "name": "stdout",
     "output_type": "stream",
     "text": [
      "Number of distinct rows: 12177\n"
     ]
    }
   ],
   "source": [
    "# Select the relevant columns\n",
    "distinct_rows = df_asset_events_flat_small.select(\"transaction\", \"identifier\", \"collection\", \"event_type\").distinct()\n",
    "\n",
    "# Count the number of distinct rows\n",
    "distinct_count = distinct_rows.count()\n",
    "\n",
    "# Show the count\n",
    "print(f\"Number of distinct rows: {distinct_count}\")"
   ]
  },
  {
   "cell_type": "code",
   "execution_count": 20,
   "id": "b074de19-23e2-4c23-8ef1-eca1e6c9312f",
   "metadata": {},
   "outputs": [],
   "source": [
    "# First check time frame that is included by single API call"
   ]
  },
  {
   "cell_type": "code",
   "execution_count": 70,
   "id": "721c4819-64bf-4365-b926-b69a91b8678d",
   "metadata": {},
   "outputs": [
    {
     "name": "stdout",
     "output_type": "stream",
     "text": [
      "+-------------------+-------------------+\n",
      "|min_event_timestamp|max_event_timestamp|\n",
      "+-------------------+-------------------+\n",
      "|2023-07-01 00:14:47|2023-09-30 23:48:35|\n",
      "+-------------------+-------------------+\n",
      "\n"
     ]
    }
   ],
   "source": [
    "min_max_timestamps = df_asset_events_flat.agg(\n",
    "    F.from_unixtime(F.min(\"event_timestamp\")).alias(\"min_event_timestamp\"),\n",
    "    F.from_unixtime(F.max(\"event_timestamp\")).alias(\"max_event_timestamp\")\n",
    ")\n",
    "min_max_timestamps.show()"
   ]
  },
  {
   "cell_type": "code",
   "execution_count": 20,
   "id": "7059fcea-7024-49ad-92fd-4de33e776127",
   "metadata": {},
   "outputs": [],
   "source": [
    "# Difference between event types\n",
    "# Sale is the ultimate action that reflects a completed transaction.\n",
    "# Offer and Order can initiate the process leading to a Sale\n",
    "# Transfer may occur both before and after a Sale, \n",
    "# potentially as part of a wash trading scheme where assets are moved around to give a false impression of market activity."
   ]
  },
  {
   "cell_type": "code",
   "execution_count": 21,
   "id": "47a4633d-b2d2-4847-bd30-cd9590339b60",
   "metadata": {},
   "outputs": [
    {
     "name": "stdout",
     "output_type": "stream",
     "text": [
      "+----------+-----+\n",
      "|event_type|count|\n",
      "+----------+-----+\n",
      "|      sale| 4970|\n",
      "|  transfer|19533|\n",
      "+----------+-----+\n",
      "\n"
     ]
    }
   ],
   "source": [
    "df_grouped_by_event = df_asset_events_flat.groupBy(\"event_type\").agg(\n",
    "    F.count(\"*\").alias(\"count\")\n",
    ")\n",
    "df_grouped_by_event.show()"
   ]
  },
  {
   "cell_type": "code",
   "execution_count": 22,
   "id": "3a1eedac-76f4-475d-84fe-33e899243914",
   "metadata": {},
   "outputs": [],
   "source": [
    "# Payment decomposition\n",
    "# payment_quantity = 23630000000000000000\n",
    "# decimals = 18\n",
    "# Amount in WETH = 23630000000000000000 /10^18 = 23.63"
   ]
  },
  {
   "cell_type": "code",
   "execution_count": 37,
   "id": "8a332224-dc59-4e97-9d2d-d149079c1e4c",
   "metadata": {},
   "outputs": [
    {
     "name": "stdout",
     "output_type": "stream",
     "text": [
      "+------+------------+\n",
      "|symbol|record_count|\n",
      "+------+------------+\n",
      "|  NULL|       19533|\n",
      "|  WETH|        3669|\n",
      "|   ETH|        1287|\n",
      "|  USDC|          14|\n",
      "+------+------------+\n",
      "\n"
     ]
    }
   ],
   "source": [
    "df_count_by_symbol = df_asset_events_flat.groupBy(\"symbol\").agg(\n",
    "    F.count(\"*\").alias(\"record_count\")\n",
    ").orderBy(col(\"record_count\").desc())\n",
    "df_count_by_symbol.show()"
   ]
  },
  {
   "cell_type": "code",
   "execution_count": 23,
   "id": "a1332470-da10-4a31-8094-b0f2cbdcb2fc",
   "metadata": {},
   "outputs": [],
   "source": [
    "# Wash trading analysis sample"
   ]
  },
  {
   "cell_type": "code",
   "execution_count": 24,
   "id": "3952d787-38a8-482c-9a50-aafd2abc815f",
   "metadata": {},
   "outputs": [],
   "source": [
    "# 1. Rapid transfers between a small group of accounts (often involving back-and-forth transfers of the same asset for a set of assets).\n",
    "# 2. Minimal time differences between buys and sells (or transfers).\n",
    "# 3. No real change in ownership, as the seller and buyer may be the same person, or colluding accounts.\n",
    "# 4. Repeated behavior over a period, showing a cycle of transfers or sales without any actual long-term holding."
   ]
  },
  {
   "cell_type": "code",
   "execution_count": 25,
   "id": "41d603a6-0046-42da-971e-c899286aa4c4",
   "metadata": {},
   "outputs": [],
   "source": [
    "# Build a Transaction Graph\n",
    "\n",
    "# Nodes: Each node represents a wallet or address.\n",
    "# Edges: Each edge represents an event (sale or transfer).\n",
    "# In sale events, the edge connects the seller to the buyer.\n",
    "# In transfer events, the edge connects the sender to the receiver."
   ]
  },
  {
   "cell_type": "code",
   "execution_count": 26,
   "id": "d0779d6d-96dd-4517-8bb6-9b6795e9ed50",
   "metadata": {},
   "outputs": [],
   "source": [
    "# 1. Rapid transfers between a small group of accounts - Graph Library"
   ]
  },
  {
   "cell_type": "code",
   "execution_count": 27,
   "id": "13972994-7212-4a2c-941b-a1ac242eaf0c",
   "metadata": {},
   "outputs": [
    {
     "data": {
      "text/plain": [
       "[Row(from='0xdbfd76af2157dc15ee4e57f3f942bb45ba84af24', to='0xdbfd76af2157dc15ee4e57f3f942bb45ba84af24', nft_id='9386', collection='boredapeyachtclub', timestamp=1692520391, price=None, payment_symbol=None),\n",
       " Row(from='0x2e9a18d66f2fc535497cfb395d7f1bcb6746e582', to='0xe0b6e70261db8ef63df421662dbba26ae8470a5d', nft_id='3045', collection='boredapeyachtclub', timestamp=1692520127, price=None, payment_symbol=None),\n",
       " Row(from='0xc67db0df922238979da0fd00d46016e8ae14cecb', to='0xea5b1f2f29d89dd959b11cf7d28065f1f25cf697', nft_id='8902', collection='boredapeyachtclub', timestamp=1692519851, price=None, payment_symbol=None),\n",
       " Row(from='0xa8d87df83755179e579967014adf733be7c8023d', to='0xdb5485c85bd95f38f9def0ca85499ef67dc581c0', nft_id='9860', collection='boredapeyachtclub', timestamp=1692518927, price=None, payment_symbol=None),\n",
       " Row(from='0xdbfd76af2157dc15ee4e57f3f942bb45ba84af24', to='0x501036f867924cdfb7d903205ccb8539bf286bd0', nft_id='4232', collection='boredapeyachtclub', timestamp=1692517163, price=None, payment_symbol=None)]"
      ]
     },
     "execution_count": 27,
     "metadata": {},
     "output_type": "execute_result"
    }
   ],
   "source": [
    "df_transfers = df_asset_events_flat.filter(col(\"event_type\") == \"transfer\").select(\n",
    "    col(\"from_address\").alias(\"from\"),\n",
    "    col(\"to_address\").alias(\"to\"),\n",
    "    col(\"identifier\").alias(\"nft_id\"), \n",
    "    col(\"collection\").alias(\"collection\"),\n",
    "    col(\"event_timestamp\").alias(\"timestamp\"),\n",
    "    lit(None).cast(\"double\").alias(\"price\"),\n",
    "    lit(None).cast(\"string\").alias(\"payment_symbol\")\n",
    ")\n",
    "\n",
    "df_sales = df_asset_events_flat.filter(col(\"event_type\") == \"sale\").select(\n",
    "    col(\"seller\").alias(\"from\"),\n",
    "    col(\"buyer\").alias(\"to\"),\n",
    "    col(\"identifier\").alias(\"nft_id\"),\n",
    "    col(\"collection\").alias(\"collection\"),\n",
    "    col(\"event_timestamp\").alias(\"timestamp\"),\n",
    "    (col(\"payment_quantity\") / expr(\"pow(10, decimals)\")).alias(\"price\"),\n",
    "    col(\"symbol\").alias(\"payment_symbol\")\n",
    ")\n",
    "\n",
    "df_edges = df_transfers.unionByName(df_sales, allowMissingColumns=True)\n",
    "df_edges.take(5)"
   ]
  },
  {
   "cell_type": "code",
   "execution_count": 28,
   "id": "964c79fd-dd07-46b9-902b-dc71fba78a28",
   "metadata": {},
   "outputs": [
    {
     "name": "stderr",
     "output_type": "stream",
     "text": [
      "/usr/local/spark/python/pyspark/sql/dataframe.py:168: UserWarning: DataFrame.sql_ctx is an internal property, and will be removed in future releases. Use DataFrame.sparkSession instead.\n",
      "  warnings.warn(\n"
     ]
    }
   ],
   "source": [
    "df_vertices = df_edges.select( col(\"from\").alias(\"id\")) \\\n",
    "    .union(df_edges.select(col(\"to\").alias(\"id\"))).distinct() # Nodes between participants\n",
    "\n",
    "df_edges_graph = df_edges.select(\n",
    "    col(\"from\").alias(\"src\"),\n",
    "    col(\"to\").alias(\"dst\"),\n",
    "    col(\"nft_id\"),\n",
    "    col(\"timestamp\"),\n",
    "    col(\"price\")\n",
    ")\n",
    "\n",
    "g = GraphFrame(df_vertices, df_edges_graph)"
   ]
  },
  {
   "cell_type": "code",
   "execution_count": 32,
   "id": "0b177e2f-1f80-453e-9f87-8d4863bf7e5a",
   "metadata": {},
   "outputs": [
    {
     "name": "stdout",
     "output_type": "stream",
     "text": [
      "+------------------------------------------+------+-----+\n",
      "|id                                        |nft_id|count|\n",
      "+------------------------------------------+------+-----+\n",
      "|0x29469395eaf6f95920e59f858042f0e28d98a20b|2779  |229  |\n",
      "|0x29469395eaf6f95920e59f858042f0e28d98a20b|7491  |129  |\n",
      "|0x29469395eaf6f95920e59f858042f0e28d98a20b|5691  |115  |\n",
      "|0x29469395eaf6f95920e59f858042f0e28d98a20b|9860  |108  |\n",
      "|0x29469395eaf6f95920e59f858042f0e28d98a20b|3569  |88   |\n",
      "|0x29469395eaf6f95920e59f858042f0e28d98a20b|847   |76   |\n",
      "|0x29469395eaf6f95920e59f858042f0e28d98a20b|4429  |62   |\n",
      "|0x29469395eaf6f95920e59f858042f0e28d98a20b|4858  |58   |\n",
      "|0x29469395eaf6f95920e59f858042f0e28d98a20b|8872  |53   |\n",
      "|0x29469395eaf6f95920e59f858042f0e28d98a20b|6671  |53   |\n",
      "|0x29469395eaf6f95920e59f858042f0e28d98a20b|3055  |50   |\n",
      "|0x29469395eaf6f95920e59f858042f0e28d98a20b|6399  |49   |\n",
      "|0x29469395eaf6f95920e59f858042f0e28d98a20b|8199  |46   |\n",
      "|0x29469395eaf6f95920e59f858042f0e28d98a20b|3815  |42   |\n",
      "|0x29469395eaf6f95920e59f858042f0e28d98a20b|1012  |40   |\n",
      "|0x29469395eaf6f95920e59f858042f0e28d98a20b|8498  |39   |\n",
      "|0x29469395eaf6f95920e59f858042f0e28d98a20b|6785  |38   |\n",
      "|0x29469395eaf6f95920e59f858042f0e28d98a20b|1770  |37   |\n",
      "|0x29469395eaf6f95920e59f858042f0e28d98a20b|4383  |37   |\n",
      "|0x29469395eaf6f95920e59f858042f0e28d98a20b|7773  |37   |\n",
      "+------------------------------------------+------+-----+\n",
      "only showing top 20 rows\n",
      "\n"
     ]
    }
   ],
   "source": [
    "transaction_counts = g.edges.groupBy(\"src\", \"nft_id\").count() \\\n",
    "    .withColumnRenamed(\"src\", \"id\")\n",
    "\n",
    "transaction_counts = transaction_counts.filter(col(\"count\") > 5)  # threshold should be set to some other value\n",
    "\n",
    "filtered_participants = g.vertices.join(transaction_counts, \"id\", \"inner\").orderBy(col(\"count\").desc())\n",
    "\n",
    "filtered_participants.show(truncate=False)"
   ]
  },
  {
   "cell_type": "code",
   "execution_count": null,
   "id": "183b465c-f2ab-4679-9482-0f7cda2e5402",
   "metadata": {},
   "outputs": [],
   "source": []
  }
 ],
 "metadata": {
  "kernelspec": {
   "display_name": "Python 3 (ipykernel)",
   "language": "python",
   "name": "python3"
  },
  "language_info": {
   "codemirror_mode": {
    "name": "ipython",
    "version": 3
   },
   "file_extension": ".py",
   "mimetype": "text/x-python",
   "name": "python",
   "nbconvert_exporter": "python",
   "pygments_lexer": "ipython3",
   "version": "3.11.6"
  }
 },
 "nbformat": 4,
 "nbformat_minor": 5
}
